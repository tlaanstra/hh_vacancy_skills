{
 "cells": [
  {
   "cell_type": "markdown",
   "metadata": {},
   "source": [
    "TODO:\n",
    "   - [ ] перевести формирование счетчика навыков в функцию\n",
    "   - [ ] добавить обьединенную сортировку по заработной плате\n",
    "   - [ ] на основе вышеприведенных пунктовЖ добавить просмотр навыков по 0.XX самым высокооплачиваемым вакансиям\n",
    "   - [x] try - except блок при загрузке данных с сайта\n",
    "   - [ ] сделать приложением?"
   ]
  },
  {
   "cell_type": "code",
   "execution_count": 108,
   "metadata": {},
   "outputs": [],
   "source": [
    "import requests\n",
    "from tqdm.notebook import tqdm\n",
    "from datetime import datetime\n",
    "from dateutil.parser import parse\n",
    "\n",
    "import re\n",
    "import time\n",
    "from collections import Counter\n",
    "\n",
    "import pandas as pd"
   ]
  },
  {
   "cell_type": "code",
   "execution_count": 2,
   "metadata": {},
   "outputs": [],
   "source": [
    "#dir(requests)"
   ]
  },
  {
   "cell_type": "code",
   "execution_count": 3,
   "metadata": {},
   "outputs": [
    {
     "name": "stdout",
     "output_type": "stream",
     "text": [
      "Populating the interactive namespace from numpy and matplotlib\n"
     ]
    },
    {
     "name": "stderr",
     "output_type": "stream",
     "text": [
      "C:\\Users\\_v010ch_\\Anaconda3\\lib\\site-packages\\IPython\\core\\magics\\pylab.py:160: UserWarning: pylab import has clobbered these variables: ['datetime']\n",
      "`%matplotlib` prevents importing * from pylab and numpy\n",
      "  \"\\n`%matplotlib` prevents importing * from pylab and numpy\"\n"
     ]
    }
   ],
   "source": [
    "%pylab inline"
   ]
  },
  {
   "cell_type": "code",
   "execution_count": null,
   "metadata": {},
   "outputs": [],
   "source": []
  },
  {
   "cell_type": "code",
   "execution_count": 4,
   "metadata": {},
   "outputs": [],
   "source": [
    "addr = 'https://api.hh.ru/vacancies'\n",
    "head = {'User-Agent': 'NoApp'}"
   ]
  },
  {
   "cell_type": "code",
   "execution_count": 21,
   "metadata": {},
   "outputs": [],
   "source": [
    "vacancies_list = [ 'Data scientist',\n",
    "'Data science', \n",
    "'Ml specialist', \n",
    "'Machine learning', \n",
    "#'Data Analyst',\n",
    "#'master data',\n",
    "'ML']"
   ]
  },
  {
   "cell_type": "code",
   "execution_count": null,
   "metadata": {},
   "outputs": [],
   "source": []
  },
  {
   "cell_type": "markdown",
   "metadata": {},
   "source": [
    "'area': {'id': '1', 'name': 'Москва'...}    \n",
    "'salary': {'from': 300000, 'to': None, 'currency': 'RUR', 'gross': False}    \n",
    "'description': {'......'}    \n",
    "'key_skills': [{'name': 'Мат стат'}, {'name': 'Мат анализ'}, {'name': 'Python'}, {'name': 'Git'}]     \n",
    "'published_at': YYYY-MM-DDThh:mm:ss±hhmm"
   ]
  },
  {
   "cell_type": "markdown",
   "metadata": {},
   "source": [
    "### Забираем данные по вакансиям с hh"
   ]
  },
  {
   "cell_type": "code",
   "execution_count": 22,
   "metadata": {},
   "outputs": [],
   "source": [
    "clr = lambda x: (re.sub(r'<.*?>', '', str(x)))\n",
    "BREAK_STOP_LEVEL = 3"
   ]
  },
  {
   "cell_type": "code",
   "execution_count": 187,
   "metadata": {},
   "outputs": [
    {
     "name": "stdout",
     "output_type": "stream",
     "text": [
      "https://api.hh.ru/vacancies?text=Data+scientist\n"
     ]
    },
    {
     "data": {
      "application/vnd.jupyter.widget-view+json": {
       "model_id": "368db6e8d39a4ce9917cc5a98cea5871",
       "version_major": 2,
       "version_minor": 0
      },
      "text/plain": [
       "HBox(children=(HTML(value=''), FloatProgress(value=0.0, max=28.0), HTML(value='')))"
      ]
     },
     "metadata": {},
     "output_type": "display_data"
    },
    {
     "name": "stdout",
     "output_type": "stream",
     "text": [
      "\n",
      "Found 558 vacancies with key words \"Data scientist\" with 558 not in list\n",
      "https://api.hh.ru/vacancies?text=Data+science\n"
     ]
    },
    {
     "data": {
      "application/vnd.jupyter.widget-view+json": {
       "model_id": "0e9b75e4d45c48a08e2db452348c3674",
       "version_major": 2,
       "version_minor": 0
      },
      "text/plain": [
       "HBox(children=(HTML(value=''), FloatProgress(value=0.0, max=66.0), HTML(value='')))"
      ]
     },
     "metadata": {},
     "output_type": "display_data"
    },
    {
     "name": "stdout",
     "output_type": "stream",
     "text": [
      "\n",
      "Found 1306 vacancies with key words \"Data science\" with 745 not in list\n",
      "https://api.hh.ru/vacancies?text=Ml+specialist\n"
     ]
    },
    {
     "data": {
      "application/vnd.jupyter.widget-view+json": {
       "model_id": "f9db2e8d6798400fab878d61afedb3e8",
       "version_major": 2,
       "version_minor": 0
      },
      "text/plain": [
       "HBox(children=(HTML(value=''), FloatProgress(value=0.0, max=11.0), HTML(value='')))"
      ]
     },
     "metadata": {},
     "output_type": "display_data"
    },
    {
     "name": "stdout",
     "output_type": "stream",
     "text": [
      "\n",
      "Found 213 vacancies with key words \"Ml specialist\" with 39 not in list\n",
      "https://api.hh.ru/vacancies?text=Machine+learning\n"
     ]
    },
    {
     "data": {
      "application/vnd.jupyter.widget-view+json": {
       "model_id": "808f0533c58f4b8fbc919593c4e4bc73",
       "version_major": 2,
       "version_minor": 0
      },
      "text/plain": [
       "HBox(children=(HTML(value=''), FloatProgress(value=0.0, max=42.0), HTML(value='')))"
      ]
     },
     "metadata": {},
     "output_type": "display_data"
    },
    {
     "name": "stdout",
     "output_type": "stream",
     "text": [
      "\n",
      "Found 829 vacancies with key words \"Machine learning\" with 159 not in list\n",
      "https://api.hh.ru/vacancies?text=ML\n"
     ]
    },
    {
     "data": {
      "application/vnd.jupyter.widget-view+json": {
       "model_id": "dd44cbff33694055b7c0f35a33533592",
       "version_major": 2,
       "version_minor": 0
      },
      "text/plain": [
       "HBox(children=(HTML(value=''), FloatProgress(value=0.0, max=55.0), HTML(value='')))"
      ]
     },
     "metadata": {},
     "output_type": "display_data"
    },
    {
     "name": "stdout",
     "output_type": "stream",
     "text": [
      "\n",
      "Found 1084 vacancies with key words \"ML\" with 110 not in list\n",
      "\n",
      "Done\n"
     ]
    }
   ],
   "source": [
    "%%time\n",
    "\n",
    "id_list     = list()\n",
    "area_list   = list()\n",
    "descr_list  = list()\n",
    "salary_from_list = list()\n",
    "salary_to_list   = list()\n",
    "salary_cur_list  = list()\n",
    "key_skills_list  = list()\n",
    "\n",
    "date_list = list()\n",
    "\n",
    "breaks_count = 0\n",
    "\n",
    "for element in vacancies_list:\n",
    "    new_ones = 0\n",
    "    \n",
    "    #getting amount of all vacancies\n",
    "    try:\n",
    "        answ = requests.get(addr, params={'text':element}, headers = head)\n",
    "        if answ.status_code != 200:\n",
    "            print('Error get info with ' + element + ' tag')\n",
    "            break\n",
    "    except:\n",
    "        print('exception try to get list of vacansies for profession')\n",
    "        breaks_count += 1\n",
    "        print('end')\n",
    "        break\n",
    "        \n",
    "    print(answ.url)\n",
    "    time.sleep(1)\n",
    "    \n",
    "    info_tag = answ.json()\n",
    "    amnt_pages = info_tag['pages']\n",
    "    amnt_found = info_tag['found']\n",
    "    \n",
    "    # amnt_pages\n",
    "    for page in tqdm(range(amnt_pages)):\n",
    "        # going through all pages\n",
    "        try:\n",
    "            answ = requests.get(addr, params={'text':element, 'page':page}, headers = head)\n",
    "            if answ.status_code != 200:\n",
    "                print('Error get info with ' + element + ' tag on page ' + str(page))\n",
    "                break\n",
    "        except:\n",
    "            print(f'exception try to get next list of vacansies for {element}')\n",
    "            breaks_count += 1\n",
    "            if breaks_count > BREAK_STOP_LEVEL:\n",
    "                break\n",
    "            continue\n",
    "            \n",
    "        info_tag_page = answ.json()\n",
    "        info_tag_page = info_tag_page['items']\n",
    "        if len(info_tag_page) == 0:\n",
    "            break\n",
    "        \n",
    "        #len(info_tag_page)\n",
    "        for vac in range( len(info_tag_page) ):\n",
    "            #going through all vacancies on pages \n",
    "            if info_tag_page[vac]['id'] in id_list:\n",
    "                break\n",
    "            \n",
    "            try:\n",
    "                #print(info_tag_page[vac]['id'])\n",
    "                answ = requests.get(addr + '/' + info_tag_page[vac]['id'], headers = head)\n",
    "                if answ.status_code != 200:\n",
    "                    print('Error get info about vacancia ' + info_tag_page[vac]['id'])\n",
    "                    break  \n",
    "            except:\n",
    "                print('exception try to get vacancy description')\n",
    "                breaks_count += 1\n",
    "                if breaks_count > BREAK_STOP_LEVEL:\n",
    "                    break\n",
    "                continue\n",
    "            vacancy = answ.json()\n",
    "            \n",
    "            id_list.append(vacancy['id'])\n",
    "            \n",
    "            if isinstance(vacancy['area'], type(None)):\n",
    "                area_list.append('')\n",
    "            else:\n",
    "                area_list.append(  vacancy['area']['name'].lower())  # id name\n",
    "            \n",
    "            if isinstance(vacancy['description'], type(None)):\n",
    "                descr_list.append('')\n",
    "            else:\n",
    "                descr_list.append(  clr(vacancy['description']).lower())  # id name\n",
    "            \n",
    "            \n",
    "            if isinstance(vacancy['salary'], type(None)):\n",
    "                salary_from_list.append( None )   # from to\n",
    "                salary_to_list.append(   None )   # from to\n",
    "                salary_cur_list.append(  None )\n",
    "            else:\n",
    "                salary_from_list.append( vacancy['salary']['from']) # from to\n",
    "                salary_to_list.append(   vacancy['salary']['to'])   # from to\n",
    "                salary_cur_list.append(  vacancy['salary']['currency'].lower())\n",
    "            \n",
    "                        \n",
    "            #if len(vacancy['key_skills']) > 0:\n",
    "            #    for skill in range( len(vacancy['key_skills']) ):   # name name name name.....\n",
    "            #        key_skills_list.append(  vacancy['key_skills'][skill]['name'].lower())\n",
    "            key_skills_list.append(  vacancy['key_skills'] )   \n",
    "            \n",
    "            date_list.append( parse(vacancy['published_at'], ignoretz = True) )\n",
    "            new_ones += 1\n",
    "                   \n",
    "    print('Found ' + str(amnt_found) + ' vacancies with key words \"' + element + '\" with ' + str(new_ones) + ' not in list')\n",
    "    \n",
    "    \n",
    "print('\\nDone')"
   ]
  },
  {
   "cell_type": "code",
   "execution_count": null,
   "metadata": {},
   "outputs": [],
   "source": []
  },
  {
   "cell_type": "markdown",
   "metadata": {},
   "source": [
    "### Зачищаем вакансии так, что бы при наличии в одной вакансии нескольких библиотек js, оставался бы только один js. и т.п."
   ]
  },
  {
   "cell_type": "code",
   "execution_count": 188,
   "metadata": {},
   "outputs": [
    {
     "data": {
      "text/plain": [
       "[[],\n",
       " [],\n",
       " [{'name': 'Python'},\n",
       "  {'name': 'Big Data'},\n",
       "  {'name': 'Tableau'},\n",
       "  {'name': 'Базы данных'}],\n",
       " [{'name': 'Python'},\n",
       "  {'name': 'Прогнозирование'},\n",
       "  {'name': 'Аналитические исследования'},\n",
       "  {'name': 'MS PowerPoint'},\n",
       "  {'name': 'Data Mining'},\n",
       "  {'name': 'Pytorch'},\n",
       "  {'name': 'Scikit-learn'},\n",
       "  {'name': 'Sklearn'},\n",
       "  {'name': 'Scikit learn'},\n",
       "  {'name': 'TensorFlow'},\n",
       "  {'name': 'DataScience'},\n",
       "  {'name': 'Data Science'},\n",
       "  {'name': 'Анализ данных'}],\n",
       " []]"
      ]
     },
     "execution_count": 188,
     "metadata": {},
     "output_type": "execute_result"
    }
   ],
   "source": [
    "key_skills_list[:5]"
   ]
  },
  {
   "cell_type": "code",
   "execution_count": 189,
   "metadata": {},
   "outputs": [],
   "source": [
    "# для обьединения\n",
    "javascript_list = ['javascript', 'node.js', 'js', 'react', 'react.js', 'reactjs', 'jquery', 'angularjs', 'jquery', 'vue.js', 'vuejs', 'vue', 'backbone', 'redux']\n",
    "\n",
    "skill_dict = {'анализ данных':'data analysis', 'машинное обучение':'machine learning',\n",
    "              'ml':'machine learning', 'разработка по':'software development',\n",
    "              'data scientist': 'data science',\n",
    "              'opencv': 'computoe vision', 'cv': 'computoe vision', 'компьютерное зрение': 'computoe vision',\n",
    "              'анализ данных':'data analysis', 'бизнес-анализ':'business analysis',\n",
    "              'базы данных':'работа с базами данных', 'html5':'html', \n",
    "              'проведение презентаций':'presentation skills',\n",
    "              #?'тестирование': 'a/b', 'qa'\n",
    "              'kubernetes': 'kubernates',\n",
    "              'k8s': 'kubernates',\n",
    "              'marketing analysis': 'маркетинговый анализ',\n",
    "              'analytical skills': 'аналитическое мышление',\n",
    "              'cистемы управления базами данных': 'cубд',\n",
    "              'ms access': 'office', 'ms powerpoint': 'office', 'ms excel': 'office',\n",
    "              'ms office': 'office', 'ms visio': 'office', 'ms outlook': 'office',#'ms project': 'office', \n",
    "              'ms sharepoint': 'office', \n",
    "              'powerbi': 'ms power bi',\n",
    "              'power bi': 'ms power bi',\n",
    "              'rest api': 'rest',\n",
    "              'ruby on rails': 'ruby',\n",
    "              'natural language processing': 'nlp',\n",
    "              'go': 'golang',\n",
    "              'negotiation skills': 'ведение переговоров',\n",
    "              'bigquery': 'google bigquery',\n",
    "             }\n",
    "for_change = skill_dict.keys()"
   ]
  },
  {
   "cell_type": "code",
   "execution_count": 190,
   "metadata": {},
   "outputs": [
    {
     "data": {
      "application/vnd.jupyter.widget-view+json": {
       "model_id": "2a3edff889c0468b811d4c613d1cef2e",
       "version_major": 2,
       "version_minor": 0
      },
      "text/plain": [
       "HBox(children=(HTML(value=''), FloatProgress(value=0.0, max=1611.0), HTML(value='')))"
      ]
     },
     "metadata": {},
     "output_type": "display_data"
    },
    {
     "name": "stdout",
     "output_type": "stream",
     "text": [
      "\n"
     ]
    }
   ],
   "source": [
    "key_skills = Counter()\n",
    "for el in tqdm(key_skills_list):\n",
    "    if len(el) > 1:\n",
    "        skills = []\n",
    "        for ind in range(len(el)):\n",
    "            element = el[ind]['name'].lower()\n",
    "            \n",
    "            if 'sql' in element and 'nosql' not in element:\n",
    "                skills.append('sql')\n",
    "            elif 'english' in element:\n",
    "                skills.append('английский язык')\n",
    "            elif 'c++' in element or 'c' == element:\n",
    "                skills.append('c/c++')\n",
    "            elif element in javascript_list:   # should be earlie then 'java'\n",
    "                skills.append('javascript')\n",
    "            elif element.startswith('java'):\n",
    "                skills.append('java')\n",
    "            elif element.startswith('hadoop'):\n",
    "                skills.append('hadoop')\n",
    "                \n",
    "            elif element.startswith('css'):\n",
    "                skills.append('css')\n",
    "                \n",
    "            elif 'nosql' in element:\n",
    "                skills.append('nosql')\n",
    "            elif element.startswith('qa'):\n",
    "                skills.append('qa')\n",
    "            elif element.startswith('a/b'):\n",
    "                skills.append('a/b')\n",
    "            elif 'тест' in element:\n",
    "                skills.append('qa')\n",
    "            elif 'nlp' in element:\n",
    "                skills.append('nlp')\n",
    "            elif 'продаж' in element or 'холод' in element:\n",
    "                skills.append('ignored skills')\n",
    "            else:\n",
    "                skills.append(element)\n",
    "            \n",
    "            if skills[-1] in for_change:\n",
    "                skills[-1] = skill_dict[skills[-1]]\n",
    "\n",
    "        key_skills += Counter(set(skills))"
   ]
  },
  {
   "cell_type": "markdown",
   "metadata": {},
   "source": [
    "Посмотрим на требуемые скилы в вакансиях"
   ]
  },
  {
   "cell_type": "code",
   "execution_count": 191,
   "metadata": {},
   "outputs": [
    {
     "name": "stdout",
     "output_type": "stream",
     "text": [
      "586  python\n",
      "522  sql\n",
      "241  английский язык\n",
      "166  linux\n",
      "159  java\n",
      "155  data mining\n",
      "144  git\n",
      "139  data analysis\n",
      "130  c/c++\n",
      "127  javascript\n",
      "113  machine learning\n",
      "107  office\n",
      " 92  математическая статистика\n",
      " 72  работа с базами данных\n",
      " 66  data science\n",
      " 64  аналитическое мышление\n",
      " 61  управление проектами\n",
      " 59  agile project management\n",
      " 58  hadoop\n",
      " 58  c#\n",
      " 56  big data\n",
      " 50  docker\n",
      " 49  spark\n",
      " 48  html\n",
      " 47  css\n",
      " 45  spring framework\n",
      " 42  project management\n",
      " 41  tensorflow\n",
      " 41  qa\n",
      " 40  математический анализ\n",
      " 40  scala\n",
      " 39  business analysis\n",
      " 38  matlab\n",
      " 37  aws\n",
      " 35  аналитические исследования\n",
      " 35  статистический анализ\n",
      " 35  kubernates\n",
      " 34  google analytics\n",
      " 33  pandas\n",
      " 33  crm\n",
      " 32  работа в команде\n",
      " 32  mongodb\n",
      " 32  product management\n",
      " 32  .net framework\n",
      " 31  математическое моделирование\n",
      " 31  nlp\n",
      " 31  team management\n",
      " 30  разработка технических заданий\n",
      " 30  leadership skills\n",
      " 27  pytorch\n"
     ]
    }
   ],
   "source": [
    "show_butch = 0 # какую группу по 50 скилов отображать\n",
    "\n",
    "for_print = key_skills.most_common()[show_butch*50 : show_butch*50 + 50]\n",
    "#for_print = key_skills.most_common()[-1*show_butch*50 - 50 : -1*show_butch*50 ]\n",
    "for el in for_print:\n",
    "    print(f'{el[1]:3}  {el[0]}')"
   ]
  },
  {
   "cell_type": "code",
   "execution_count": null,
   "metadata": {},
   "outputs": [],
   "source": []
  },
  {
   "cell_type": "markdown",
   "metadata": {},
   "source": [
    "### Посмотрим на оплату"
   ]
  },
  {
   "cell_type": "code",
   "execution_count": 192,
   "metadata": {},
   "outputs": [
    {
     "data": {
      "text/plain": [
       "(1611, 3)"
      ]
     },
     "execution_count": 192,
     "metadata": {},
     "output_type": "execute_result"
    }
   ],
   "source": [
    "df_slr = pd.DataFrame({'slr_from':salary_from_list, 'slr_to':salary_to_list, 'slr_cur':salary_cur_list})\n",
    "df_slr.shape"
   ]
  },
  {
   "cell_type": "code",
   "execution_count": 193,
   "metadata": {},
   "outputs": [
    {
     "data": {
      "text/html": [
       "<div>\n",
       "<style scoped>\n",
       "    .dataframe tbody tr th:only-of-type {\n",
       "        vertical-align: middle;\n",
       "    }\n",
       "\n",
       "    .dataframe tbody tr th {\n",
       "        vertical-align: top;\n",
       "    }\n",
       "\n",
       "    .dataframe thead th {\n",
       "        text-align: right;\n",
       "    }\n",
       "</style>\n",
       "<table border=\"1\" class=\"dataframe\">\n",
       "  <thead>\n",
       "    <tr style=\"text-align: right;\">\n",
       "      <th></th>\n",
       "      <th>slr_from</th>\n",
       "      <th>slr_to</th>\n",
       "      <th>slr_cur</th>\n",
       "    </tr>\n",
       "  </thead>\n",
       "  <tbody>\n",
       "    <tr>\n",
       "      <th>0</th>\n",
       "      <td>100000.0</td>\n",
       "      <td>NaN</td>\n",
       "      <td>rur</td>\n",
       "    </tr>\n",
       "    <tr>\n",
       "      <th>1</th>\n",
       "      <td>NaN</td>\n",
       "      <td>NaN</td>\n",
       "      <td>None</td>\n",
       "    </tr>\n",
       "    <tr>\n",
       "      <th>2</th>\n",
       "      <td>150000.0</td>\n",
       "      <td>200000.0</td>\n",
       "      <td>rur</td>\n",
       "    </tr>\n",
       "    <tr>\n",
       "      <th>3</th>\n",
       "      <td>170000.0</td>\n",
       "      <td>230000.0</td>\n",
       "      <td>rur</td>\n",
       "    </tr>\n",
       "    <tr>\n",
       "      <th>4</th>\n",
       "      <td>70000.0</td>\n",
       "      <td>100000.0</td>\n",
       "      <td>rur</td>\n",
       "    </tr>\n",
       "  </tbody>\n",
       "</table>\n",
       "</div>"
      ],
      "text/plain": [
       "   slr_from    slr_to slr_cur\n",
       "0  100000.0       NaN     rur\n",
       "1       NaN       NaN    None\n",
       "2  150000.0  200000.0     rur\n",
       "3  170000.0  230000.0     rur\n",
       "4   70000.0  100000.0     rur"
      ]
     },
     "execution_count": 193,
     "metadata": {},
     "output_type": "execute_result"
    }
   ],
   "source": [
    "df_slr.head()"
   ]
  },
  {
   "cell_type": "code",
   "execution_count": 194,
   "metadata": {},
   "outputs": [
    {
     "data": {
      "text/plain": [
       "((179,), (248,))"
      ]
     },
     "execution_count": 194,
     "metadata": {},
     "output_type": "execute_result"
    }
   ],
   "source": [
    "df_slr[df_slr.slr_cur == 'rur'].slr_from.dropna().shape, df_slr[['slr_from', 'slr_to']].slr_from.dropna().shape"
   ]
  },
  {
   "cell_type": "code",
   "execution_count": 195,
   "metadata": {},
   "outputs": [
    {
     "data": {
      "text/plain": [
       "{'whiskers': [<matplotlib.lines.Line2D at 0x24591bae748>,\n",
       "  <matplotlib.lines.Line2D at 0x24591bb0e08>],\n",
       " 'caps': [<matplotlib.lines.Line2D at 0x24591bd0208>,\n",
       "  <matplotlib.lines.Line2D at 0x24591bd0b88>],\n",
       " 'boxes': [<matplotlib.lines.Line2D at 0x24591bb0b08>],\n",
       " 'medians': [<matplotlib.lines.Line2D at 0x24591bd83c8>],\n",
       " 'fliers': [<matplotlib.lines.Line2D at 0x24591bd8d88>],\n",
       " 'means': []}"
      ]
     },
     "execution_count": 195,
     "metadata": {},
     "output_type": "execute_result"
    },
    {
     "data": {
      "image/png": "[encoded data removed]",
      "text/plain": [
       "<Figure size 432x288 with 1 Axes>"
      ]
     },
     "metadata": {
      "needs_background": "light"
     },
     "output_type": "display_data"
    }
   ],
   "source": [
    "plt.boxplot( df_slr[df_slr.slr_cur == 'rur'].slr_from.drop(df_slr[df_slr.slr_cur == 'rur'].slr_from.idxmax()).dropna() )"
   ]
  },
  {
   "cell_type": "code",
   "execution_count": 196,
   "metadata": {},
   "outputs": [
    {
     "data": {
      "text/plain": [
       "{'whiskers': [<matplotlib.lines.Line2D at 0x2458c696748>,\n",
       "  <matplotlib.lines.Line2D at 0x2458f88a748>],\n",
       " 'caps': [<matplotlib.lines.Line2D at 0x24591a70248>,\n",
       "  <matplotlib.lines.Line2D at 0x245919fcf48>],\n",
       " 'boxes': [<matplotlib.lines.Line2D at 0x24591a79e48>],\n",
       " 'medians': [<matplotlib.lines.Line2D at 0x24591204808>],\n",
       " 'fliers': [<matplotlib.lines.Line2D at 0x24591a02788>],\n",
       " 'means': []}"
      ]
     },
     "execution_count": 196,
     "metadata": {},
     "output_type": "execute_result"
    },
    {
     "data": {
      "image/png": "[encoded data removed]",
      "text/plain": [
       "<Figure size 432x288 with 1 Axes>"
      ]
     },
     "metadata": {
      "needs_background": "light"
     },
     "output_type": "display_data"
    }
   ],
   "source": [
    "#plt.boxplot( df_slr[df_slr.slr_cur == 'rur'].slr_to.dropna() )\n",
    "plt.boxplot( df_slr[df_slr.slr_cur == 'rur'].slr_to.drop(df_slr[df_slr.slr_cur == 'rur'].slr_to.idxmax()).dropna() )"
   ]
  },
  {
   "cell_type": "markdown",
   "metadata": {},
   "source": [
    "если предположить, что все вакансии с оплатой больше 30000 в рублях"
   ]
  },
  {
   "cell_type": "code",
   "execution_count": 222,
   "metadata": {},
   "outputs": [
    {
     "data": {
      "text/plain": [
       "{'whiskers': [<matplotlib.lines.Line2D at 0x245933b0888>,\n",
       "  <matplotlib.lines.Line2D at 0x245933ccc08>],\n",
       " 'caps': [<matplotlib.lines.Line2D at 0x245933d3908>,\n",
       "  <matplotlib.lines.Line2D at 0x245933d3fc8>],\n",
       " 'boxes': [<matplotlib.lines.Line2D at 0x245933cc448>],\n",
       " 'medians': [<matplotlib.lines.Line2D at 0x245933da708>],\n",
       " 'fliers': [<matplotlib.lines.Line2D at 0x245933dadc8>],\n",
       " 'means': []}"
      ]
     },
     "execution_count": 222,
     "metadata": {},
     "output_type": "execute_result"
    },
    {
     "data": {
      "image/png": "[encoded data removed]",
      "text/plain": [
       "<Figure size 432x288 with 1 Axes>"
      ]
     },
     "metadata": {
      "needs_background": "light"
     },
     "output_type": "display_data"
    }
   ],
   "source": [
    "plt.boxplot( df_slr.query('slr_from <= 800000 and slr_from > 30000').slr_from.dropna())"
   ]
  },
  {
   "cell_type": "code",
   "execution_count": 223,
   "metadata": {},
   "outputs": [
    {
     "data": {
      "text/plain": [
       "{'whiskers': [<matplotlib.lines.Line2D at 0x24593421c48>,\n",
       "  <matplotlib.lines.Line2D at 0x24593438708>],\n",
       " 'caps': [<matplotlib.lines.Line2D at 0x24593438d88>,\n",
       "  <matplotlib.lines.Line2D at 0x24593438dc8>],\n",
       " 'boxes': [<matplotlib.lines.Line2D at 0x24593436a48>],\n",
       " 'medians': [<matplotlib.lines.Line2D at 0x24593442b48>],\n",
       " 'fliers': [<matplotlib.lines.Line2D at 0x24593442b08>],\n",
       " 'means': []}"
      ]
     },
     "execution_count": 223,
     "metadata": {},
     "output_type": "execute_result"
    },
    {
     "data": {
      "image/png": "[encoded data removed]",
      "text/plain": [
       "<Figure size 432x288 with 1 Axes>"
      ]
     },
     "metadata": {
      "needs_background": "light"
     },
     "output_type": "display_data"
    }
   ],
   "source": [
    "plt.boxplot( df_slr.query('slr_to <= 800000 and slr_to > 30000').slr_to.dropna())"
   ]
  },
  {
   "cell_type": "code",
   "execution_count": null,
   "metadata": {},
   "outputs": [],
   "source": []
  },
  {
   "cell_type": "code",
   "execution_count": null,
   "metadata": {},
   "outputs": [],
   "source": []
  },
  {
   "cell_type": "code",
   "execution_count": null,
   "metadata": {},
   "outputs": [],
   "source": []
  },
  {
   "cell_type": "code",
   "execution_count": null,
   "metadata": {},
   "outputs": [],
   "source": []
  },
  {
   "cell_type": "code",
   "execution_count": null,
   "metadata": {},
   "outputs": [],
   "source": []
  },
  {
   "cell_type": "markdown",
   "metadata": {},
   "source": [
    "#### test"
   ]
  },
  {
   "cell_type": "code",
   "execution_count": 6,
   "metadata": {},
   "outputs": [],
   "source": [
    "answ = requests.get(addr, params = {'text':'ML'}, headers = head)\n",
    "print(len(answ.json(), answ.status_code)"
   ]
  },
  {
   "cell_type": "code",
   "execution_count": 8,
   "metadata": {},
   "outputs": [
    {
     "data": {
      "text/plain": [
       "200"
      ]
     },
     "execution_count": 8,
     "metadata": {},
     "output_type": "execute_result"
    }
   ],
   "source": [
    "answ.status_code"
   ]
  },
  {
   "cell_type": "code",
   "execution_count": 9,
   "metadata": {},
   "outputs": [
    {
     "name": "stdout",
     "output_type": "stream",
     "text": [
      "571\n",
      "29\n",
      "20\n",
      "36292283\n"
     ]
    }
   ],
   "source": [
    "info = answ.json()\n",
    "print( info['found'] )\n",
    "print( info['pages'] )\n",
    "print( len(info['items']) )\n",
    "\n",
    "print( info['items'][0]['id'] )"
   ]
  },
  {
   "cell_type": "code",
   "execution_count": null,
   "metadata": {},
   "outputs": [],
   "source": []
  },
  {
   "cell_type": "code",
   "execution_count": 15,
   "metadata": {},
   "outputs": [],
   "source": [
    "answ = requests.get(addr + '/' + str(35218725), headers = head)\n",
    "vac = answ.json()\n",
    "#vac"
   ]
  },
  {
   "cell_type": "code",
   "execution_count": 25,
   "metadata": {
    "collapsed": true,
    "jupyter": {
     "outputs_hidden": true
    }
   },
   "outputs": [
    {
     "data": {
      "text/plain": [
       "{'id': '35218725',\n",
       " 'premium': False,\n",
       " 'billing_type': {'id': 'standard_plus', 'name': 'Стандарт плюс'},\n",
       " 'relations': [],\n",
       " 'name': 'Junior Data scientist',\n",
       " 'insider_interview': None,\n",
       " 'response_letter_required': False,\n",
       " 'area': {'id': '1', 'name': 'Москва', 'url': 'https://api.hh.ru/areas/1'},\n",
       " 'salary': None,\n",
       " 'type': {'id': 'open', 'name': 'Открытая'},\n",
       " 'address': {'city': 'Москва',\n",
       "  'street': 'улица 8 Марта',\n",
       "  'building': '1с12',\n",
       "  'description': None,\n",
       "  'lat': 55.800726,\n",
       "  'lng': 37.554933,\n",
       "  'raw': 'Москва, улица 8 Марта, 1с12',\n",
       "  'metro': {'station_name': 'Динамо',\n",
       "   'line_name': 'Замоскворецкая',\n",
       "   'station_id': '2.34',\n",
       "   'line_id': '2',\n",
       "   'lat': 55.789704,\n",
       "   'lng': 37.558212},\n",
       "  'metro_stations': [{'station_name': 'Динамо',\n",
       "    'line_name': 'Замоскворецкая',\n",
       "    'station_id': '2.34',\n",
       "    'line_id': '2',\n",
       "    'lat': 55.789704,\n",
       "    'lng': 37.558212},\n",
       "   {'station_name': 'Петровский парк',\n",
       "    'line_name': 'Солнцевская',\n",
       "    'station_id': '133.594',\n",
       "    'line_id': '133',\n",
       "    'lat': 55.79233,\n",
       "    'lng': 37.55952}]},\n",
       " 'allow_messages': True,\n",
       " 'site': {'id': 'hh', 'name': 'hh.ru'},\n",
       " 'experience': {'id': 'noExperience', 'name': 'Нет опыта'},\n",
       " 'schedule': {'id': 'fullDay', 'name': 'Полный день'},\n",
       " 'employment': {'id': 'full', 'name': 'Полная занятость'},\n",
       " 'department': None,\n",
       " 'contacts': {'name': 'Богачева Виктория',\n",
       "  'email': 'v.bogacheva@payps.ru',\n",
       "  'phones': []},\n",
       " 'description': '<p><strong><em>Pay P.S. - финтех компания, на рынке с 2012 года. Мы делаем финансовые услуги доступными. В данный момент наша платформа и сервисы вокруг нее позволяют получать денежные средства на покупку товаров и услуг за 5 минут.</em></strong></p> <p><strong><em>Что у нас есть:</em></strong></p> <ol> <li>Несколько сайтов с посещаемостью около 1 млн. посещений в месяц;</li> <li>Большое количество партнеров (телеком операторы, банки, интернет-магазины, онлайн кассы, собственный тревел проект);</li> <li>Молодая и динамичная команда выпускников НИУ ВШЭ, МГУ (мехмат/ВМК), МГТУ им. Баумана;</li> <li>Свой штат программистов;</li> <li>Наша цель - сделать финансовые услуги доступными любому человеку за 1 клик.</li> </ol> <p><em><strong>Какие задачи предстоит решать Вам:</strong></em></p> <ol> <li>Создавать и поддерживать отчеты в актуальном состоянии.</li> <li>Строить, поддерживать в актуальном состоянии и анализировать качество скоринговых моделей.</li> <li>Анализировать отклонения от плановых показателей, искать причин таких отклонений.</li> <li>Разрабатывать рекомендаций для принятия решений.</li> <li>Анализировать влияние дополнительных источников на предсказательную способность скоринговых моделей.</li> </ol> <p><em><strong>Что Вы получаете:</strong></em></p> <ol> <li>Интересные задачи и проекты с 1 дня работы;</li> <li>Реальный практический опыт в анализе данных;</li> <li>Возможность быстро реализовать любую толковую идею;</li> <li>Опытного наставника;</li> <li>Свободу от бюрократии и дресс-кода;</li> <li>Приятный, современный офис (15 минут от м. Динамо по красивейшему Петровскому парку);</li> <li>Полное соблюдение ТК РФ (&quot;белая&quot; заработная плата, социальные льготы и гарантии).</li> </ol> <p><em><strong>Что нам нужно от Вас:</strong></em></p> <ol> <li>Уверенный пользователь Excel, SQL.</li> <li>Владением одним или несколькими программами (R, Knime, Python).</li> <li>Знание основ теории вероятности, математической статистики, методов анализа данных и машинного обучения.</li> <li>Высшее образование - математический анализ/ статистика/ теория вероятности и т.п.</li> <li>Высокий уровень аналитических способностей.</li> <li>Английский язык на уровне чтения профессиональной литературы.</li> <li>Желание развиваться в Data scienсe.</li> <li>Готовность первым этапом пройти тестовое задание!</li> </ol>',\n",
       " 'branded_description': None,\n",
       " 'vacancy_constructor_template': None,\n",
       " 'key_skills': [{'name': 'Python'},\n",
       "  {'name': 'Математический анализ'},\n",
       "  {'name': 'Базы данных'},\n",
       "  {'name': 'Статистика'},\n",
       "  {'name': 'Аналитические исследования'},\n",
       "  {'name': 'SQL'},\n",
       "  {'name': 'Математическое моделирование'},\n",
       "  {'name': 'Математическая статистика'},\n",
       "  {'name': 'Анализ данных'},\n",
       "  {'name': 'Машинное обучение'}],\n",
       " 'accept_handicapped': True,\n",
       " 'accept_kids': False,\n",
       " 'archived': False,\n",
       " 'response_url': None,\n",
       " 'specializations': [{'id': '5.124',\n",
       "   'name': 'Риски: кредитные',\n",
       "   'profarea_id': '5',\n",
       "   'profarea_name': 'Банки, инвестиции, лизинг'},\n",
       "  {'id': '1.25',\n",
       "   'name': 'Аналитик',\n",
       "   'profarea_id': '1',\n",
       "   'profarea_name': 'Информационные технологии, интернет, телеком'}],\n",
       " 'code': None,\n",
       " 'hidden': False,\n",
       " 'quick_responses_allowed': False,\n",
       " 'driver_license_types': [],\n",
       " 'accept_incomplete_resumes': True,\n",
       " 'employer': {'id': '1039977',\n",
       "  'name': 'МФК Займ Онлайн',\n",
       "  'url': 'https://api.hh.ru/employers/1039977',\n",
       "  'alternate_url': 'https://hh.ru/employer/1039977',\n",
       "  'logo_urls': {'240': 'https://hhcdn.ru/employer-logo/1071075.png',\n",
       "   'original': 'https://hhcdn.ru/employer-logo-original/89627.png',\n",
       "   '90': 'https://hhcdn.ru/employer-logo/1071074.png'},\n",
       "  'vacancies_url': 'https://api.hh.ru/vacancies?employer_id=1039977',\n",
       "  'trusted': True},\n",
       " 'published_at': '2020-03-27T18:03:53+0300',\n",
       " 'created_at': '2020-03-27T18:03:53+0300',\n",
       " 'negotiations_url': None,\n",
       " 'suitable_resumes_url': None,\n",
       " 'apply_alternate_url': 'https://hh.ru/applicant/vacancy_response?vacancyId=35218725',\n",
       " 'has_test': False,\n",
       " 'test': None,\n",
       " 'alternate_url': 'https://hh.ru/vacancy/35218725'}"
      ]
     },
     "execution_count": 25,
     "metadata": {},
     "output_type": "execute_result"
    }
   ],
   "source": [
    "vac"
   ]
  },
  {
   "cell_type": "code",
   "execution_count": 8,
   "metadata": {},
   "outputs": [
    {
     "name": "stdout",
     "output_type": "stream",
     "text": [
      "1228\n",
      "['36359628', '35546587', '35218725', '36271196', '36476804']\n",
      "['москва', 'москва', 'москва', 'москва', 'москва']\n",
      "[300000, 130000, None, 100000, 150000]\n",
      "[None, 500000, None, 250000, 250000]\n",
      "['rur', 'rur', None, 'rur', 'rur']\n",
      "['математическая статистика', 'математический анализ', 'python', 'git', 'python']\n",
      "[datetime.datetime(2020, 3, 27, 19, 25, 48), datetime.datetime(2020, 3, 27, 18, 10, 59), datetime.datetime(2020, 3, 27, 18, 3, 53), datetime.datetime(2020, 3, 27, 18, 25, 39), datetime.datetime(2020, 3, 27, 13, 27, 50)]\n"
     ]
    }
   ],
   "source": [
    "print(len(id_list))\n",
    "print(id_list[:5])\n",
    "print(area_list[:5])\n",
    "#print(descr_list[:5])\n",
    "print(salary_from_list[:5])\n",
    "print(salary_to_list[:5])\n",
    "print(salary_cur_list[:5])\n",
    "print(key_skills_list[:5])\n",
    "print(date_list[:5])"
   ]
  },
  {
   "cell_type": "code",
   "execution_count": null,
   "metadata": {},
   "outputs": [],
   "source": [
    "vacancy"
   ]
  },
  {
   "cell_type": "code",
   "execution_count": null,
   "metadata": {},
   "outputs": [],
   "source": []
  },
  {
   "cell_type": "code",
   "execution_count": null,
   "metadata": {},
   "outputs": [],
   "source": [
    "#data_ks[0].value_counts()[60:120]"
   ]
  },
  {
   "cell_type": "code",
   "execution_count": null,
   "metadata": {},
   "outputs": [],
   "source": []
  },
  {
   "cell_type": "code",
   "execution_count": null,
   "metadata": {},
   "outputs": [],
   "source": []
  }
 ],
 "metadata": {
  "kernelspec": {
   "display_name": "Python 3",
   "language": "python",
   "name": "python3"
  },
  "language_info": {
   "codemirror_mode": {
    "name": "ipython",
    "version": 3
   },
   "file_extension": ".py",
   "mimetype": "text/x-python",
   "name": "python",
   "nbconvert_exporter": "python",
   "pygments_lexer": "ipython3",
   "version": "3.7.9"
  }
 },
 "nbformat": 4,
 "nbformat_minor": 4
}
