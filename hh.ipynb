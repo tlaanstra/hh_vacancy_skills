{
 "cells": [
  {
   "cell_type": "markdown",
   "metadata": {},
   "source": [
    "TODO:\n",
    "   - [ ] перевести формирование счетчика навыков в функцию\n",
    "   - [ ] добавить обьединенную сортировку по заработной плате\n",
    "   - [ ] на основе вышеприведенных пунктовЖ добавить просмотр навыков по 0.XX самым высокооплачиваемым вакансиям"
   ]
  },
  {
   "cell_type": "code",
   "execution_count": 108,
   "metadata": {},
   "outputs": [],
   "source": [
    "import requests\n",
    "from tqdm.notebook import tqdm\n",
    "from datetime import datetime\n",
    "from dateutil.parser import parse\n",
    "\n",
    "import re\n",
    "import time\n",
    "from collections import Counter\n",
    "\n",
    "import pandas as pd"
   ]
  },
  {
   "cell_type": "code",
   "execution_count": 2,
   "metadata": {},
   "outputs": [],
   "source": [
    "#dir(requests)"
   ]
  },
  {
   "cell_type": "code",
   "execution_count": 3,
   "metadata": {},
   "outputs": [
    {
     "name": "stdout",
     "output_type": "stream",
     "text": [
      "Populating the interactive namespace from numpy and matplotlib\n"
     ]
    },
    {
     "name": "stderr",
     "output_type": "stream",
     "text": [
      "C:\\Users\\_v010ch_\\Anaconda3\\lib\\site-packages\\IPython\\core\\magics\\pylab.py:160: UserWarning: pylab import has clobbered these variables: ['datetime']\n",
      "`%matplotlib` prevents importing * from pylab and numpy\n",
      "  \"\\n`%matplotlib` prevents importing * from pylab and numpy\"\n"
     ]
    }
   ],
   "source": [
    "%pylab inline"
   ]
  },
  {
   "cell_type": "code",
   "execution_count": null,
   "metadata": {},
   "outputs": [],
   "source": []
  },
  {
   "cell_type": "code",
   "execution_count": 4,
   "metadata": {},
   "outputs": [],
   "source": [
    "addr = 'https://api.hh.ru/vacancies'\n",
    "head = {'User-Agent': 'NoApp'}"
   ]
  },
  {
   "cell_type": "code",
   "execution_count": 21,
   "metadata": {},
   "outputs": [],
   "source": [
    "vacancies_list = [ 'Data scientist',\n",
    "'Data science', \n",
    "'Ml specialist', \n",
    "'Machine learning', \n",
    "#'Data Analyst',\n",
    "#'master data',\n",
    "'ML']"
   ]
  },
  {
   "cell_type": "code",
   "execution_count": null,
   "metadata": {},
   "outputs": [],
   "source": []
  },
  {
   "cell_type": "markdown",
   "metadata": {},
   "source": [
    "'area': {'id': '1', 'name': 'Москва'...}    \n",
    "'salary': {'from': 300000, 'to': None, 'currency': 'RUR', 'gross': False}    \n",
    "'description': {'......'}    \n",
    "'key_skills': [{'name': 'Мат стат'}, {'name': 'Мат анализ'}, {'name': 'Python'}, {'name': 'Git'}]     \n",
    "'published_at': YYYY-MM-DDThh:mm:ss±hhmm"
   ]
  },
  {
   "cell_type": "markdown",
   "metadata": {},
   "source": [
    "### Забираем данные по вакансиям с hh"
   ]
  },
  {
   "cell_type": "code",
   "execution_count": 22,
   "metadata": {},
   "outputs": [],
   "source": [
    "clr = lambda x: (re.sub(r'<.*?>', '', str(x)))"
   ]
  },
  {
   "cell_type": "code",
   "execution_count": 183,
   "metadata": {},
   "outputs": [
    {
     "name": "stdout",
     "output_type": "stream",
     "text": [
      "https://api.hh.ru/vacancies?text=Data+scientist\n"
     ]
    },
    {
     "data": {
      "application/vnd.jupyter.widget-view+json": {
       "model_id": "860d8127a98d4775b4fc902b6b172045",
       "version_major": 2,
       "version_minor": 0
      },
      "text/plain": [
       "HBox(children=(HTML(value=''), FloatProgress(value=0.0, max=28.0), HTML(value='')))"
      ]
     },
     "metadata": {},
     "output_type": "display_data"
    },
    {
     "name": "stdout",
     "output_type": "stream",
     "text": [
      "\n",
      "Found 555 vacancies with key words \"Data scientist\" with 555 not in list\n",
      "https://api.hh.ru/vacancies?text=Data+science\n"
     ]
    },
    {
     "data": {
      "application/vnd.jupyter.widget-view+json": {
       "model_id": "74e55865f5484ccb9b9fec6dad792cf4",
       "version_major": 2,
       "version_minor": 0
      },
      "text/plain": [
       "HBox(children=(HTML(value=''), FloatProgress(value=0.0, max=66.0), HTML(value='')))"
      ]
     },
     "metadata": {},
     "output_type": "display_data"
    },
    {
     "name": "stdout",
     "output_type": "stream",
     "text": [
      "\n"
     ]
    },
    {
     "ename": "ConnectionError",
     "evalue": "HTTPSConnectionPool(host='api.hh.ru', port=443): Max retries exceeded with url: /vacancies/41660446 (Caused by NewConnectionError('<urllib3.connection.HTTPSConnection object at 0x000002458F93D608>: Failed to establish a new connection: [WinError 10060] Попытка установить соединение была безуспешной, т.к. от другого компьютера за требуемое время не получен нужный отклик, или было разорвано уже установленное соединение из-за неверного отклика уже подключенного компьютера'))",
     "output_type": "error",
     "traceback": [
      "\u001b[1;31m---------------------------------------------------------------------------\u001b[0m",
      "\u001b[1;31mTimeoutError\u001b[0m                              Traceback (most recent call last)",
      "\u001b[1;32m~\\Anaconda3\\lib\\site-packages\\urllib3\\connection.py\u001b[0m in \u001b[0;36m_new_conn\u001b[1;34m(self)\u001b[0m\n\u001b[0;32m    159\u001b[0m             conn = connection.create_connection(\n\u001b[1;32m--> 160\u001b[1;33m                 \u001b[1;33m(\u001b[0m\u001b[0mself\u001b[0m\u001b[1;33m.\u001b[0m\u001b[0m_dns_host\u001b[0m\u001b[1;33m,\u001b[0m \u001b[0mself\u001b[0m\u001b[1;33m.\u001b[0m\u001b[0mport\u001b[0m\u001b[1;33m)\u001b[0m\u001b[1;33m,\u001b[0m \u001b[0mself\u001b[0m\u001b[1;33m.\u001b[0m\u001b[0mtimeout\u001b[0m\u001b[1;33m,\u001b[0m \u001b[1;33m**\u001b[0m\u001b[0mextra_kw\u001b[0m\u001b[1;33m\u001b[0m\u001b[1;33m\u001b[0m\u001b[0m\n\u001b[0m\u001b[0;32m    161\u001b[0m             )\n",
      "\u001b[1;32m~\\Anaconda3\\lib\\site-packages\\urllib3\\util\\connection.py\u001b[0m in \u001b[0;36mcreate_connection\u001b[1;34m(address, timeout, source_address, socket_options)\u001b[0m\n\u001b[0;32m     83\u001b[0m     \u001b[1;32mif\u001b[0m \u001b[0merr\u001b[0m \u001b[1;32mis\u001b[0m \u001b[1;32mnot\u001b[0m \u001b[1;32mNone\u001b[0m\u001b[1;33m:\u001b[0m\u001b[1;33m\u001b[0m\u001b[1;33m\u001b[0m\u001b[0m\n\u001b[1;32m---> 84\u001b[1;33m         \u001b[1;32mraise\u001b[0m \u001b[0merr\u001b[0m\u001b[1;33m\u001b[0m\u001b[1;33m\u001b[0m\u001b[0m\n\u001b[0m\u001b[0;32m     85\u001b[0m \u001b[1;33m\u001b[0m\u001b[0m\n",
      "\u001b[1;32m~\\Anaconda3\\lib\\site-packages\\urllib3\\util\\connection.py\u001b[0m in \u001b[0;36mcreate_connection\u001b[1;34m(address, timeout, source_address, socket_options)\u001b[0m\n\u001b[0;32m     73\u001b[0m                 \u001b[0msock\u001b[0m\u001b[1;33m.\u001b[0m\u001b[0mbind\u001b[0m\u001b[1;33m(\u001b[0m\u001b[0msource_address\u001b[0m\u001b[1;33m)\u001b[0m\u001b[1;33m\u001b[0m\u001b[1;33m\u001b[0m\u001b[0m\n\u001b[1;32m---> 74\u001b[1;33m             \u001b[0msock\u001b[0m\u001b[1;33m.\u001b[0m\u001b[0mconnect\u001b[0m\u001b[1;33m(\u001b[0m\u001b[0msa\u001b[0m\u001b[1;33m)\u001b[0m\u001b[1;33m\u001b[0m\u001b[1;33m\u001b[0m\u001b[0m\n\u001b[0m\u001b[0;32m     75\u001b[0m             \u001b[1;32mreturn\u001b[0m \u001b[0msock\u001b[0m\u001b[1;33m\u001b[0m\u001b[1;33m\u001b[0m\u001b[0m\n",
      "\u001b[1;31mTimeoutError\u001b[0m: [WinError 10060] Попытка установить соединение была безуспешной, т.к. от другого компьютера за требуемое время не получен нужный отклик, или было разорвано уже установленное соединение из-за неверного отклика уже подключенного компьютера",
      "\nDuring handling of the above exception, another exception occurred:\n",
      "\u001b[1;31mNewConnectionError\u001b[0m                        Traceback (most recent call last)",
      "\u001b[1;32m~\\Anaconda3\\lib\\site-packages\\urllib3\\connectionpool.py\u001b[0m in \u001b[0;36murlopen\u001b[1;34m(self, method, url, body, headers, retries, redirect, assert_same_host, timeout, pool_timeout, release_conn, chunked, body_pos, **response_kw)\u001b[0m\n\u001b[0;32m    676\u001b[0m                 \u001b[0mheaders\u001b[0m\u001b[1;33m=\u001b[0m\u001b[0mheaders\u001b[0m\u001b[1;33m,\u001b[0m\u001b[1;33m\u001b[0m\u001b[1;33m\u001b[0m\u001b[0m\n\u001b[1;32m--> 677\u001b[1;33m                 \u001b[0mchunked\u001b[0m\u001b[1;33m=\u001b[0m\u001b[0mchunked\u001b[0m\u001b[1;33m,\u001b[0m\u001b[1;33m\u001b[0m\u001b[1;33m\u001b[0m\u001b[0m\n\u001b[0m\u001b[0;32m    678\u001b[0m             )\n",
      "\u001b[1;32m~\\Anaconda3\\lib\\site-packages\\urllib3\\connectionpool.py\u001b[0m in \u001b[0;36m_make_request\u001b[1;34m(self, conn, method, url, timeout, chunked, **httplib_request_kw)\u001b[0m\n\u001b[0;32m    380\u001b[0m         \u001b[1;32mtry\u001b[0m\u001b[1;33m:\u001b[0m\u001b[1;33m\u001b[0m\u001b[1;33m\u001b[0m\u001b[0m\n\u001b[1;32m--> 381\u001b[1;33m             \u001b[0mself\u001b[0m\u001b[1;33m.\u001b[0m\u001b[0m_validate_conn\u001b[0m\u001b[1;33m(\u001b[0m\u001b[0mconn\u001b[0m\u001b[1;33m)\u001b[0m\u001b[1;33m\u001b[0m\u001b[1;33m\u001b[0m\u001b[0m\n\u001b[0m\u001b[0;32m    382\u001b[0m         \u001b[1;32mexcept\u001b[0m \u001b[1;33m(\u001b[0m\u001b[0mSocketTimeout\u001b[0m\u001b[1;33m,\u001b[0m \u001b[0mBaseSSLError\u001b[0m\u001b[1;33m)\u001b[0m \u001b[1;32mas\u001b[0m \u001b[0me\u001b[0m\u001b[1;33m:\u001b[0m\u001b[1;33m\u001b[0m\u001b[1;33m\u001b[0m\u001b[0m\n",
      "\u001b[1;32m~\\Anaconda3\\lib\\site-packages\\urllib3\\connectionpool.py\u001b[0m in \u001b[0;36m_validate_conn\u001b[1;34m(self, conn)\u001b[0m\n\u001b[0;32m    977\u001b[0m         \u001b[1;32mif\u001b[0m \u001b[1;32mnot\u001b[0m \u001b[0mgetattr\u001b[0m\u001b[1;33m(\u001b[0m\u001b[0mconn\u001b[0m\u001b[1;33m,\u001b[0m \u001b[1;34m\"sock\"\u001b[0m\u001b[1;33m,\u001b[0m \u001b[1;32mNone\u001b[0m\u001b[1;33m)\u001b[0m\u001b[1;33m:\u001b[0m  \u001b[1;31m# AppEngine might not have  `.sock`\u001b[0m\u001b[1;33m\u001b[0m\u001b[1;33m\u001b[0m\u001b[0m\n\u001b[1;32m--> 978\u001b[1;33m             \u001b[0mconn\u001b[0m\u001b[1;33m.\u001b[0m\u001b[0mconnect\u001b[0m\u001b[1;33m(\u001b[0m\u001b[1;33m)\u001b[0m\u001b[1;33m\u001b[0m\u001b[1;33m\u001b[0m\u001b[0m\n\u001b[0m\u001b[0;32m    979\u001b[0m \u001b[1;33m\u001b[0m\u001b[0m\n",
      "\u001b[1;32m~\\Anaconda3\\lib\\site-packages\\urllib3\\connection.py\u001b[0m in \u001b[0;36mconnect\u001b[1;34m(self)\u001b[0m\n\u001b[0;32m    308\u001b[0m         \u001b[1;31m# Add certificate verification\u001b[0m\u001b[1;33m\u001b[0m\u001b[1;33m\u001b[0m\u001b[1;33m\u001b[0m\u001b[0m\n\u001b[1;32m--> 309\u001b[1;33m         \u001b[0mconn\u001b[0m \u001b[1;33m=\u001b[0m \u001b[0mself\u001b[0m\u001b[1;33m.\u001b[0m\u001b[0m_new_conn\u001b[0m\u001b[1;33m(\u001b[0m\u001b[1;33m)\u001b[0m\u001b[1;33m\u001b[0m\u001b[1;33m\u001b[0m\u001b[0m\n\u001b[0m\u001b[0;32m    310\u001b[0m         \u001b[0mhostname\u001b[0m \u001b[1;33m=\u001b[0m \u001b[0mself\u001b[0m\u001b[1;33m.\u001b[0m\u001b[0mhost\u001b[0m\u001b[1;33m\u001b[0m\u001b[1;33m\u001b[0m\u001b[0m\n",
      "\u001b[1;32m~\\Anaconda3\\lib\\site-packages\\urllib3\\connection.py\u001b[0m in \u001b[0;36m_new_conn\u001b[1;34m(self)\u001b[0m\n\u001b[0;32m    171\u001b[0m             raise NewConnectionError(\n\u001b[1;32m--> 172\u001b[1;33m                 \u001b[0mself\u001b[0m\u001b[1;33m,\u001b[0m \u001b[1;34m\"Failed to establish a new connection: %s\"\u001b[0m \u001b[1;33m%\u001b[0m \u001b[0me\u001b[0m\u001b[1;33m\u001b[0m\u001b[1;33m\u001b[0m\u001b[0m\n\u001b[0m\u001b[0;32m    173\u001b[0m             )\n",
      "\u001b[1;31mNewConnectionError\u001b[0m: <urllib3.connection.HTTPSConnection object at 0x000002458F93D608>: Failed to establish a new connection: [WinError 10060] Попытка установить соединение была безуспешной, т.к. от другого компьютера за требуемое время не получен нужный отклик, или было разорвано уже установленное соединение из-за неверного отклика уже подключенного компьютера",
      "\nDuring handling of the above exception, another exception occurred:\n",
      "\u001b[1;31mMaxRetryError\u001b[0m                             Traceback (most recent call last)",
      "\u001b[1;32m~\\Anaconda3\\lib\\site-packages\\requests\\adapters.py\u001b[0m in \u001b[0;36msend\u001b[1;34m(self, request, stream, timeout, verify, cert, proxies)\u001b[0m\n\u001b[0;32m    448\u001b[0m                     \u001b[0mretries\u001b[0m\u001b[1;33m=\u001b[0m\u001b[0mself\u001b[0m\u001b[1;33m.\u001b[0m\u001b[0mmax_retries\u001b[0m\u001b[1;33m,\u001b[0m\u001b[1;33m\u001b[0m\u001b[1;33m\u001b[0m\u001b[0m\n\u001b[1;32m--> 449\u001b[1;33m                     \u001b[0mtimeout\u001b[0m\u001b[1;33m=\u001b[0m\u001b[0mtimeout\u001b[0m\u001b[1;33m\u001b[0m\u001b[1;33m\u001b[0m\u001b[0m\n\u001b[0m\u001b[0;32m    450\u001b[0m                 )\n",
      "\u001b[1;32m~\\Anaconda3\\lib\\site-packages\\urllib3\\connectionpool.py\u001b[0m in \u001b[0;36murlopen\u001b[1;34m(self, method, url, body, headers, retries, redirect, assert_same_host, timeout, pool_timeout, release_conn, chunked, body_pos, **response_kw)\u001b[0m\n\u001b[0;32m    726\u001b[0m             retries = retries.increment(\n\u001b[1;32m--> 727\u001b[1;33m                 \u001b[0mmethod\u001b[0m\u001b[1;33m,\u001b[0m \u001b[0murl\u001b[0m\u001b[1;33m,\u001b[0m \u001b[0merror\u001b[0m\u001b[1;33m=\u001b[0m\u001b[0me\u001b[0m\u001b[1;33m,\u001b[0m \u001b[0m_pool\u001b[0m\u001b[1;33m=\u001b[0m\u001b[0mself\u001b[0m\u001b[1;33m,\u001b[0m \u001b[0m_stacktrace\u001b[0m\u001b[1;33m=\u001b[0m\u001b[0msys\u001b[0m\u001b[1;33m.\u001b[0m\u001b[0mexc_info\u001b[0m\u001b[1;33m(\u001b[0m\u001b[1;33m)\u001b[0m\u001b[1;33m[\u001b[0m\u001b[1;36m2\u001b[0m\u001b[1;33m]\u001b[0m\u001b[1;33m\u001b[0m\u001b[1;33m\u001b[0m\u001b[0m\n\u001b[0m\u001b[0;32m    728\u001b[0m             )\n",
      "\u001b[1;32m~\\Anaconda3\\lib\\site-packages\\urllib3\\util\\retry.py\u001b[0m in \u001b[0;36mincrement\u001b[1;34m(self, method, url, response, error, _pool, _stacktrace)\u001b[0m\n\u001b[0;32m    445\u001b[0m         \u001b[1;32mif\u001b[0m \u001b[0mnew_retry\u001b[0m\u001b[1;33m.\u001b[0m\u001b[0mis_exhausted\u001b[0m\u001b[1;33m(\u001b[0m\u001b[1;33m)\u001b[0m\u001b[1;33m:\u001b[0m\u001b[1;33m\u001b[0m\u001b[1;33m\u001b[0m\u001b[0m\n\u001b[1;32m--> 446\u001b[1;33m             \u001b[1;32mraise\u001b[0m \u001b[0mMaxRetryError\u001b[0m\u001b[1;33m(\u001b[0m\u001b[0m_pool\u001b[0m\u001b[1;33m,\u001b[0m \u001b[0murl\u001b[0m\u001b[1;33m,\u001b[0m \u001b[0merror\u001b[0m \u001b[1;32mor\u001b[0m \u001b[0mResponseError\u001b[0m\u001b[1;33m(\u001b[0m\u001b[0mcause\u001b[0m\u001b[1;33m)\u001b[0m\u001b[1;33m)\u001b[0m\u001b[1;33m\u001b[0m\u001b[1;33m\u001b[0m\u001b[0m\n\u001b[0m\u001b[0;32m    447\u001b[0m \u001b[1;33m\u001b[0m\u001b[0m\n",
      "\u001b[1;31mMaxRetryError\u001b[0m: HTTPSConnectionPool(host='api.hh.ru', port=443): Max retries exceeded with url: /vacancies/41660446 (Caused by NewConnectionError('<urllib3.connection.HTTPSConnection object at 0x000002458F93D608>: Failed to establish a new connection: [WinError 10060] Попытка установить соединение была безуспешной, т.к. от другого компьютера за требуемое время не получен нужный отклик, или было разорвано уже установленное соединение из-за неверного отклика уже подключенного компьютера'))",
      "\nDuring handling of the above exception, another exception occurred:\n",
      "\u001b[1;31mConnectionError\u001b[0m                           Traceback (most recent call last)",
      "\u001b[1;32m<ipython-input-183-c0780f433e78>\u001b[0m in \u001b[0;36m<module>\u001b[1;34m\u001b[0m\n\u001b[0;32m     44\u001b[0m \u001b[1;33m\u001b[0m\u001b[0m\n\u001b[0;32m     45\u001b[0m             \u001b[1;31m#print(info_tag_page[vac]['id'])\u001b[0m\u001b[1;33m\u001b[0m\u001b[1;33m\u001b[0m\u001b[1;33m\u001b[0m\u001b[0m\n\u001b[1;32m---> 46\u001b[1;33m             \u001b[0mansw\u001b[0m \u001b[1;33m=\u001b[0m \u001b[0mrequests\u001b[0m\u001b[1;33m.\u001b[0m\u001b[0mget\u001b[0m\u001b[1;33m(\u001b[0m\u001b[0maddr\u001b[0m \u001b[1;33m+\u001b[0m \u001b[1;34m'/'\u001b[0m \u001b[1;33m+\u001b[0m \u001b[0minfo_tag_page\u001b[0m\u001b[1;33m[\u001b[0m\u001b[0mvac\u001b[0m\u001b[1;33m]\u001b[0m\u001b[1;33m[\u001b[0m\u001b[1;34m'id'\u001b[0m\u001b[1;33m]\u001b[0m\u001b[1;33m,\u001b[0m \u001b[0mheaders\u001b[0m \u001b[1;33m=\u001b[0m \u001b[0mhead\u001b[0m\u001b[1;33m)\u001b[0m\u001b[1;33m\u001b[0m\u001b[1;33m\u001b[0m\u001b[0m\n\u001b[0m\u001b[0;32m     47\u001b[0m             \u001b[1;32mif\u001b[0m \u001b[0mansw\u001b[0m\u001b[1;33m.\u001b[0m\u001b[0mstatus_code\u001b[0m \u001b[1;33m!=\u001b[0m \u001b[1;36m200\u001b[0m\u001b[1;33m:\u001b[0m\u001b[1;33m\u001b[0m\u001b[1;33m\u001b[0m\u001b[0m\n\u001b[0;32m     48\u001b[0m                 \u001b[0mprint\u001b[0m\u001b[1;33m(\u001b[0m\u001b[1;34m'Error get info about vacancia '\u001b[0m \u001b[1;33m+\u001b[0m \u001b[0minfo_tag_page\u001b[0m\u001b[1;33m[\u001b[0m\u001b[0mvac\u001b[0m\u001b[1;33m]\u001b[0m\u001b[1;33m[\u001b[0m\u001b[1;34m'id'\u001b[0m\u001b[1;33m]\u001b[0m\u001b[1;33m)\u001b[0m\u001b[1;33m\u001b[0m\u001b[1;33m\u001b[0m\u001b[0m\n",
      "\u001b[1;32m~\\Anaconda3\\lib\\site-packages\\requests\\api.py\u001b[0m in \u001b[0;36mget\u001b[1;34m(url, params, **kwargs)\u001b[0m\n\u001b[0;32m     74\u001b[0m \u001b[1;33m\u001b[0m\u001b[0m\n\u001b[0;32m     75\u001b[0m     \u001b[0mkwargs\u001b[0m\u001b[1;33m.\u001b[0m\u001b[0msetdefault\u001b[0m\u001b[1;33m(\u001b[0m\u001b[1;34m'allow_redirects'\u001b[0m\u001b[1;33m,\u001b[0m \u001b[1;32mTrue\u001b[0m\u001b[1;33m)\u001b[0m\u001b[1;33m\u001b[0m\u001b[1;33m\u001b[0m\u001b[0m\n\u001b[1;32m---> 76\u001b[1;33m     \u001b[1;32mreturn\u001b[0m \u001b[0mrequest\u001b[0m\u001b[1;33m(\u001b[0m\u001b[1;34m'get'\u001b[0m\u001b[1;33m,\u001b[0m \u001b[0murl\u001b[0m\u001b[1;33m,\u001b[0m \u001b[0mparams\u001b[0m\u001b[1;33m=\u001b[0m\u001b[0mparams\u001b[0m\u001b[1;33m,\u001b[0m \u001b[1;33m**\u001b[0m\u001b[0mkwargs\u001b[0m\u001b[1;33m)\u001b[0m\u001b[1;33m\u001b[0m\u001b[1;33m\u001b[0m\u001b[0m\n\u001b[0m\u001b[0;32m     77\u001b[0m \u001b[1;33m\u001b[0m\u001b[0m\n\u001b[0;32m     78\u001b[0m \u001b[1;33m\u001b[0m\u001b[0m\n",
      "\u001b[1;32m~\\Anaconda3\\lib\\site-packages\\requests\\api.py\u001b[0m in \u001b[0;36mrequest\u001b[1;34m(method, url, **kwargs)\u001b[0m\n\u001b[0;32m     59\u001b[0m     \u001b[1;31m# cases, and look like a memory leak in others.\u001b[0m\u001b[1;33m\u001b[0m\u001b[1;33m\u001b[0m\u001b[1;33m\u001b[0m\u001b[0m\n\u001b[0;32m     60\u001b[0m     \u001b[1;32mwith\u001b[0m \u001b[0msessions\u001b[0m\u001b[1;33m.\u001b[0m\u001b[0mSession\u001b[0m\u001b[1;33m(\u001b[0m\u001b[1;33m)\u001b[0m \u001b[1;32mas\u001b[0m \u001b[0msession\u001b[0m\u001b[1;33m:\u001b[0m\u001b[1;33m\u001b[0m\u001b[1;33m\u001b[0m\u001b[0m\n\u001b[1;32m---> 61\u001b[1;33m         \u001b[1;32mreturn\u001b[0m \u001b[0msession\u001b[0m\u001b[1;33m.\u001b[0m\u001b[0mrequest\u001b[0m\u001b[1;33m(\u001b[0m\u001b[0mmethod\u001b[0m\u001b[1;33m=\u001b[0m\u001b[0mmethod\u001b[0m\u001b[1;33m,\u001b[0m \u001b[0murl\u001b[0m\u001b[1;33m=\u001b[0m\u001b[0murl\u001b[0m\u001b[1;33m,\u001b[0m \u001b[1;33m**\u001b[0m\u001b[0mkwargs\u001b[0m\u001b[1;33m)\u001b[0m\u001b[1;33m\u001b[0m\u001b[1;33m\u001b[0m\u001b[0m\n\u001b[0m\u001b[0;32m     62\u001b[0m \u001b[1;33m\u001b[0m\u001b[0m\n\u001b[0;32m     63\u001b[0m \u001b[1;33m\u001b[0m\u001b[0m\n",
      "\u001b[1;32m~\\Anaconda3\\lib\\site-packages\\requests\\sessions.py\u001b[0m in \u001b[0;36mrequest\u001b[1;34m(self, method, url, params, data, headers, cookies, files, auth, timeout, allow_redirects, proxies, hooks, stream, verify, cert, json)\u001b[0m\n\u001b[0;32m    528\u001b[0m         }\n\u001b[0;32m    529\u001b[0m         \u001b[0msend_kwargs\u001b[0m\u001b[1;33m.\u001b[0m\u001b[0mupdate\u001b[0m\u001b[1;33m(\u001b[0m\u001b[0msettings\u001b[0m\u001b[1;33m)\u001b[0m\u001b[1;33m\u001b[0m\u001b[1;33m\u001b[0m\u001b[0m\n\u001b[1;32m--> 530\u001b[1;33m         \u001b[0mresp\u001b[0m \u001b[1;33m=\u001b[0m \u001b[0mself\u001b[0m\u001b[1;33m.\u001b[0m\u001b[0msend\u001b[0m\u001b[1;33m(\u001b[0m\u001b[0mprep\u001b[0m\u001b[1;33m,\u001b[0m \u001b[1;33m**\u001b[0m\u001b[0msend_kwargs\u001b[0m\u001b[1;33m)\u001b[0m\u001b[1;33m\u001b[0m\u001b[1;33m\u001b[0m\u001b[0m\n\u001b[0m\u001b[0;32m    531\u001b[0m \u001b[1;33m\u001b[0m\u001b[0m\n\u001b[0;32m    532\u001b[0m         \u001b[1;32mreturn\u001b[0m \u001b[0mresp\u001b[0m\u001b[1;33m\u001b[0m\u001b[1;33m\u001b[0m\u001b[0m\n",
      "\u001b[1;32m~\\Anaconda3\\lib\\site-packages\\requests\\sessions.py\u001b[0m in \u001b[0;36msend\u001b[1;34m(self, request, **kwargs)\u001b[0m\n\u001b[0;32m    641\u001b[0m \u001b[1;33m\u001b[0m\u001b[0m\n\u001b[0;32m    642\u001b[0m         \u001b[1;31m# Send the request\u001b[0m\u001b[1;33m\u001b[0m\u001b[1;33m\u001b[0m\u001b[1;33m\u001b[0m\u001b[0m\n\u001b[1;32m--> 643\u001b[1;33m         \u001b[0mr\u001b[0m \u001b[1;33m=\u001b[0m \u001b[0madapter\u001b[0m\u001b[1;33m.\u001b[0m\u001b[0msend\u001b[0m\u001b[1;33m(\u001b[0m\u001b[0mrequest\u001b[0m\u001b[1;33m,\u001b[0m \u001b[1;33m**\u001b[0m\u001b[0mkwargs\u001b[0m\u001b[1;33m)\u001b[0m\u001b[1;33m\u001b[0m\u001b[1;33m\u001b[0m\u001b[0m\n\u001b[0m\u001b[0;32m    644\u001b[0m \u001b[1;33m\u001b[0m\u001b[0m\n\u001b[0;32m    645\u001b[0m         \u001b[1;31m# Total elapsed time of the request (approximately)\u001b[0m\u001b[1;33m\u001b[0m\u001b[1;33m\u001b[0m\u001b[1;33m\u001b[0m\u001b[0m\n",
      "\u001b[1;32m~\\Anaconda3\\lib\\site-packages\\requests\\adapters.py\u001b[0m in \u001b[0;36msend\u001b[1;34m(self, request, stream, timeout, verify, cert, proxies)\u001b[0m\n\u001b[0;32m    514\u001b[0m                 \u001b[1;32mraise\u001b[0m \u001b[0mSSLError\u001b[0m\u001b[1;33m(\u001b[0m\u001b[0me\u001b[0m\u001b[1;33m,\u001b[0m \u001b[0mrequest\u001b[0m\u001b[1;33m=\u001b[0m\u001b[0mrequest\u001b[0m\u001b[1;33m)\u001b[0m\u001b[1;33m\u001b[0m\u001b[1;33m\u001b[0m\u001b[0m\n\u001b[0;32m    515\u001b[0m \u001b[1;33m\u001b[0m\u001b[0m\n\u001b[1;32m--> 516\u001b[1;33m             \u001b[1;32mraise\u001b[0m \u001b[0mConnectionError\u001b[0m\u001b[1;33m(\u001b[0m\u001b[0me\u001b[0m\u001b[1;33m,\u001b[0m \u001b[0mrequest\u001b[0m\u001b[1;33m=\u001b[0m\u001b[0mrequest\u001b[0m\u001b[1;33m)\u001b[0m\u001b[1;33m\u001b[0m\u001b[1;33m\u001b[0m\u001b[0m\n\u001b[0m\u001b[0;32m    517\u001b[0m \u001b[1;33m\u001b[0m\u001b[0m\n\u001b[0;32m    518\u001b[0m         \u001b[1;32mexcept\u001b[0m \u001b[0mClosedPoolError\u001b[0m \u001b[1;32mas\u001b[0m \u001b[0me\u001b[0m\u001b[1;33m:\u001b[0m\u001b[1;33m\u001b[0m\u001b[1;33m\u001b[0m\u001b[0m\n",
      "\u001b[1;31mConnectionError\u001b[0m: HTTPSConnectionPool(host='api.hh.ru', port=443): Max retries exceeded with url: /vacancies/41660446 (Caused by NewConnectionError('<urllib3.connection.HTTPSConnection object at 0x000002458F93D608>: Failed to establish a new connection: [WinError 10060] Попытка установить соединение была безуспешной, т.к. от другого компьютера за требуемое время не получен нужный отклик, или было разорвано уже установленное соединение из-за неверного отклика уже подключенного компьютера'))"
     ]
    }
   ],
   "source": [
    "id_list     = list()\n",
    "area_list   = list()\n",
    "descr_list  = list()\n",
    "salary_from_list = list()\n",
    "salary_to_list   = list()\n",
    "salary_cur_list  = list()\n",
    "key_skills_list  = list()\n",
    "\n",
    "date_list = list()\n",
    "\n",
    "for element in vacancies_list:\n",
    "    new_ones = 0\n",
    "    \n",
    "    #getting amount of all vacancies\n",
    "    answ = requests.get(addr, params={'text':element}, headers = head)\n",
    "    if answ.status_code != 200:\n",
    "        print('Error get info with ' + element + ' tag')\n",
    "        break\n",
    "        \n",
    "    print(answ.url)\n",
    "    time.sleep(1)\n",
    "    \n",
    "    info_tag = answ.json()\n",
    "    amnt_pages = info_tag['pages']\n",
    "    amnt_found = info_tag['found']\n",
    "    \n",
    "    # amnt_pages\n",
    "    for page in tqdm(range(amnt_pages)):\n",
    "        # going through all pages\n",
    "        answ = requests.get(addr, params={'text':element, 'page':page}, headers = head)\n",
    "        if answ.status_code != 200:\n",
    "            print('Error get info with ' + element + ' tag on page ' + str(page))\n",
    "            break\n",
    "        info_tag_page = answ.json()\n",
    "        info_tag_page = info_tag_page['items']\n",
    "        if len(info_tag_page) == 0:\n",
    "            break\n",
    "        \n",
    "        #len(info_tag_page)\n",
    "        for vac in range( len(info_tag_page) ):\n",
    "            #going through all vacancies on pages \n",
    "            if info_tag_page[vac]['id'] in id_list:\n",
    "                break\n",
    "            \n",
    "            #print(info_tag_page[vac]['id'])\n",
    "            answ = requests.get(addr + '/' + info_tag_page[vac]['id'], headers = head)\n",
    "            if answ.status_code != 200:\n",
    "                print('Error get info about vacancia ' + info_tag_page[vac]['id'])\n",
    "                break  \n",
    "            \n",
    "            vacancy = answ.json()\n",
    "            \n",
    "            id_list.append(vacancy['id'])\n",
    "            \n",
    "            if isinstance(vacancy['area'], type(None)):\n",
    "                area_list.append('')\n",
    "            else:\n",
    "                area_list.append(  vacancy['area']['name'].lower())  # id name\n",
    "            \n",
    "            if isinstance(vacancy['description'], type(None)):\n",
    "                descr_list.append('')\n",
    "            else:\n",
    "                descr_list.append(  clr(vacancy['description']).lower())  # id name\n",
    "            \n",
    "            \n",
    "            if isinstance(vacancy['salary'], type(None)):\n",
    "                salary_from_list.append( None )   # from to\n",
    "                salary_to_list.append(   None )   # from to\n",
    "                salary_cur_list.append(  None )\n",
    "            else:\n",
    "                salary_from_list.append( vacancy['salary']['from']) # from to\n",
    "                salary_to_list.append(   vacancy['salary']['to'])   # from to\n",
    "                salary_cur_list.append(  vacancy['salary']['currency'].lower())\n",
    "            \n",
    "                        \n",
    "            #if len(vacancy['key_skills']) > 0:\n",
    "            #    for skill in range( len(vacancy['key_skills']) ):   # name name name name.....\n",
    "            #        key_skills_list.append(  vacancy['key_skills'][skill]['name'].lower())\n",
    "            key_skills_list.append(  vacancy['key_skills'] )   \n",
    "            \n",
    "            date_list.append( parse(vacancy['published_at'], ignoretz = True) )\n",
    "            new_ones += 1\n",
    "                   \n",
    "    print('Found ' + str(amnt_found) + ' vacancies with key words \"' + element + '\" with ' + str(new_ones) + ' not in list')\n",
    "    \n",
    "    \n",
    "print('\\nDone')"
   ]
  },
  {
   "cell_type": "code",
   "execution_count": null,
   "metadata": {},
   "outputs": [],
   "source": []
  },
  {
   "cell_type": "markdown",
   "metadata": {},
   "source": [
    "### Зачищаем вакансии так, что бы при наличии в одной вакансии нескольких библиотек js, оставался бы только один js. и т.п."
   ]
  },
  {
   "cell_type": "code",
   "execution_count": 106,
   "metadata": {},
   "outputs": [
    {
     "data": {
      "text/plain": [
       "[[],\n",
       " [],\n",
       " [{'name': 'Python'},\n",
       "  {'name': 'Big Data'},\n",
       "  {'name': 'Tableau'},\n",
       "  {'name': 'Базы данных'}],\n",
       " [{'name': 'Python'},\n",
       "  {'name': 'Прогнозирование'},\n",
       "  {'name': 'Аналитические исследования'},\n",
       "  {'name': 'MS PowerPoint'},\n",
       "  {'name': 'Data Mining'},\n",
       "  {'name': 'Pytorch'},\n",
       "  {'name': 'Scikit-learn'},\n",
       "  {'name': 'Sklearn'},\n",
       "  {'name': 'Scikit learn'},\n",
       "  {'name': 'TensorFlow'},\n",
       "  {'name': 'DataScience'},\n",
       "  {'name': 'Data Science'},\n",
       "  {'name': 'Анализ данных'}],\n",
       " []]"
      ]
     },
     "execution_count": 106,
     "metadata": {},
     "output_type": "execute_result"
    }
   ],
   "source": [
    "key_skills_list[:5]"
   ]
  },
  {
   "cell_type": "code",
   "execution_count": 162,
   "metadata": {},
   "outputs": [],
   "source": [
    "# для обьединения\n",
    "javascript_list = ['javascript', 'node.js', 'js', 'react', 'react.js', 'reactjs', 'jquery', 'angularjs', 'jquery', 'vue.js', 'vuejs', 'vue', 'backbone', 'redux']\n",
    "\n",
    "skill_dict = {'анализ данных':'data analysis', 'машинное обучение':'machine learning',\n",
    "              'ml':'machine learning', 'разработка по':'software development',\n",
    "              'data scientist': 'data science',\n",
    "              'opencv': 'computoe vision', 'cv': 'computoe vision', 'компьютерное зрение': 'computoe vision',\n",
    "              'анализ данных':'data analysis', 'бизнес-анализ':'business analysis',\n",
    "              'базы данных':'работа с базами данных', 'html5':'html', \n",
    "              'проведение презентаций':'presentation skills',\n",
    "              #?'тестирование': 'a/b', 'qa'\n",
    "              'kubernetes': 'kubernates',\n",
    "              'k8s': 'kubernates',\n",
    "              'marketing analysis': 'маркетинговый анализ',\n",
    "              'analytical skills': 'аналитическое мышление',\n",
    "              'cистемы управления базами данных': 'cубд',\n",
    "              'ms access': 'office', 'ms powerpoint': 'office', 'ms excel': 'office',\n",
    "              'ms office': 'office', 'ms visio': 'office', 'ms outlook': 'office',#'ms project': 'office', \n",
    "              'ms sharepoint': 'office', \n",
    "              'powerbi': 'ms power bi',\n",
    "              'power bi': 'ms power bi',\n",
    "              'rest api': 'rest',\n",
    "              'ruby on rails': 'ruby',\n",
    "              'natural language processing': 'nlp',\n",
    "              'go': 'golang',\n",
    "              'negotiation skills': 'ведение переговоров',\n",
    "              'bigquery': 'google bigquery',\n",
    "             }\n",
    "for_change = skill_dict.keys()"
   ]
  },
  {
   "cell_type": "code",
   "execution_count": 167,
   "metadata": {},
   "outputs": [
    {
     "data": {
      "application/vnd.jupyter.widget-view+json": {
       "model_id": "3409fb8a485a498ab7ca2a71402bf923",
       "version_major": 2,
       "version_minor": 0
      },
      "text/plain": [
       "HBox(children=(HTML(value=''), FloatProgress(value=0.0, max=1573.0), HTML(value='')))"
      ]
     },
     "metadata": {},
     "output_type": "display_data"
    },
    {
     "name": "stdout",
     "output_type": "stream",
     "text": [
      "\n"
     ]
    }
   ],
   "source": [
    "key_skills = Counter()\n",
    "for el in tqdm(key_skills_list):\n",
    "    if len(el) > 1:\n",
    "        skills = []\n",
    "        for ind in range(len(el)):\n",
    "            element = el[ind]['name'].lower()\n",
    "            \n",
    "            if 'sql' in element and 'nosql' not in element:\n",
    "                skills.append('sql')\n",
    "            elif 'english' in element:\n",
    "                skills.append('английский язык')\n",
    "            elif 'c++' in element or 'c' == element:\n",
    "                skills.append('c/c++')\n",
    "            elif element in javascript_list:   # should be earlie then 'java'\n",
    "                skills.append('javascript')\n",
    "            elif element.startswith('java'):\n",
    "                skills.append('java')\n",
    "            elif element.startswith('hadoop'):\n",
    "                skills.append('hadoop')\n",
    "                \n",
    "            elif element.startswith('css'):\n",
    "                skills.append('css')\n",
    "                \n",
    "            elif 'nosql' in element:\n",
    "                skills.append('nosql')\n",
    "            elif element.startswith('qa'):\n",
    "                skills.append('qa')\n",
    "            elif element.startswith('a/b'):\n",
    "                skills.append('a/b')\n",
    "            elif 'тест' in element:\n",
    "                skills.append('qa')\n",
    "            elif 'nlp' in element:\n",
    "                skills.append('nlp')\n",
    "            elif 'продаж' in element or 'холод' in element:\n",
    "                skills.append('ignored skills')\n",
    "            else:\n",
    "                skills.append(element)\n",
    "            \n",
    "            if skills[-1] in for_change:\n",
    "                skills[-1] = skill_dict[skills[-1]]\n",
    "\n",
    "        key_skills += Counter(set(skills))"
   ]
  },
  {
   "cell_type": "markdown",
   "metadata": {},
   "source": [
    "Посмотрим на требуемые скилы в вакансиях"
   ]
  },
  {
   "cell_type": "code",
   "execution_count": 174,
   "metadata": {},
   "outputs": [
    {
     "name": "stdout",
     "output_type": "stream",
     "text": [
      "607  python\n",
      "537  sql\n",
      "209  английский язык\n",
      "165  java\n",
      "159  linux\n",
      "156  data mining\n",
      "151  git\n",
      "135  data analysis\n",
      "128  javascript\n",
      "127  c/c++\n",
      "125  machine learning\n",
      " 97  математическая статистика\n",
      " 90  office\n",
      " 74  работа с базами данных\n",
      " 65  data science\n",
      " 60  c#\n",
      " 60  управление проектами\n",
      " 58  hadoop\n",
      " 57  big data\n",
      " 57  аналитическое мышление\n",
      " 48  docker\n",
      " 48  agile project management\n",
      " 48  html\n",
      " 47  spark\n",
      " 45  spring framework\n",
      " 45  css\n",
      " 42  scala\n",
      " 40  tensorflow\n",
      " 39  математический анализ\n",
      " 39  pandas\n",
      " 38  business analysis\n",
      " 37  работа в команде\n",
      " 37  статистический анализ\n",
      " 37  project management\n",
      " 35  ооп\n",
      " 33  nlp\n",
      " 32  pytorch\n",
      " 32  аналитические исследования\n",
      " 32  matlab\n",
      " 31  математическое моделирование\n",
      " 31  aws\n",
      " 31  mongodb\n",
      " 31  разработка технических заданий\n",
      " 30  kubernates\n",
      " 30  kafka\n",
      " 30  product management\n",
      " 30  team management\n",
      " 29  numpy\n",
      " 28  django framework\n",
      " 28  .net framework\n"
     ]
    }
   ],
   "source": [
    "show_butch = 0 # какую группу по 50 скилов отображать\n",
    "\n",
    "for_print = key_skills.most_common()[show_butch*50 : show_butch*50 + 50]\n",
    "#for_print = key_skills.most_common()[-1*show_butch*50 - 50 : -1*show_butch*50 ]\n",
    "for el in for_print:\n",
    "    print(f'{el[1]:3}  {el[0]}')"
   ]
  },
  {
   "cell_type": "code",
   "execution_count": null,
   "metadata": {},
   "outputs": [],
   "source": []
  },
  {
   "cell_type": "markdown",
   "metadata": {},
   "source": [
    "### Посмотрим на оплату"
   ]
  },
  {
   "cell_type": "code",
   "execution_count": 177,
   "metadata": {},
   "outputs": [
    {
     "data": {
      "text/plain": [
       "(1573, 3)"
      ]
     },
     "execution_count": 177,
     "metadata": {},
     "output_type": "execute_result"
    }
   ],
   "source": [
    "df_slr = pd.DataFrame({'slr_from':salary_from_list, 'slr_to':salary_to_list, 'slr_cur':salary_cur_list})\n",
    "df_slr.shape"
   ]
  },
  {
   "cell_type": "code",
   "execution_count": 178,
   "metadata": {},
   "outputs": [
    {
     "data": {
      "text/html": [
       "<div>\n",
       "<style scoped>\n",
       "    .dataframe tbody tr th:only-of-type {\n",
       "        vertical-align: middle;\n",
       "    }\n",
       "\n",
       "    .dataframe tbody tr th {\n",
       "        vertical-align: top;\n",
       "    }\n",
       "\n",
       "    .dataframe thead th {\n",
       "        text-align: right;\n",
       "    }\n",
       "</style>\n",
       "<table border=\"1\" class=\"dataframe\">\n",
       "  <thead>\n",
       "    <tr style=\"text-align: right;\">\n",
       "      <th></th>\n",
       "      <th>slr_from</th>\n",
       "      <th>slr_to</th>\n",
       "      <th>slr_cur</th>\n",
       "    </tr>\n",
       "  </thead>\n",
       "  <tbody>\n",
       "    <tr>\n",
       "      <th>0</th>\n",
       "      <td>NaN</td>\n",
       "      <td>NaN</td>\n",
       "      <td>None</td>\n",
       "    </tr>\n",
       "    <tr>\n",
       "      <th>1</th>\n",
       "      <td>100000.0</td>\n",
       "      <td>NaN</td>\n",
       "      <td>rur</td>\n",
       "    </tr>\n",
       "    <tr>\n",
       "      <th>2</th>\n",
       "      <td>150000.0</td>\n",
       "      <td>200000.0</td>\n",
       "      <td>rur</td>\n",
       "    </tr>\n",
       "    <tr>\n",
       "      <th>3</th>\n",
       "      <td>170000.0</td>\n",
       "      <td>230000.0</td>\n",
       "      <td>rur</td>\n",
       "    </tr>\n",
       "    <tr>\n",
       "      <th>4</th>\n",
       "      <td>70000.0</td>\n",
       "      <td>100000.0</td>\n",
       "      <td>rur</td>\n",
       "    </tr>\n",
       "  </tbody>\n",
       "</table>\n",
       "</div>"
      ],
      "text/plain": [
       "   slr_from    slr_to slr_cur\n",
       "0       NaN       NaN    None\n",
       "1  100000.0       NaN     rur\n",
       "2  150000.0  200000.0     rur\n",
       "3  170000.0  230000.0     rur\n",
       "4   70000.0  100000.0     rur"
      ]
     },
     "execution_count": 178,
     "metadata": {},
     "output_type": "execute_result"
    }
   ],
   "source": [
    "df_slr.head()"
   ]
  },
  {
   "cell_type": "code",
   "execution_count": 180,
   "metadata": {},
   "outputs": [
    {
     "data": {
      "text/plain": [
       "((195,), (252,))"
      ]
     },
     "execution_count": 180,
     "metadata": {},
     "output_type": "execute_result"
    }
   ],
   "source": [
    "df_slr[df_slr.slr_cur == 'rur'].slr_from.dropna().shape, df_slr[['slr_from', 'slr_to']].slr_from.dropna().shape"
   ]
  },
  {
   "cell_type": "code",
   "execution_count": 181,
   "metadata": {},
   "outputs": [
    {
     "data": {
      "text/plain": [
       "{'whiskers': [<matplotlib.lines.Line2D at 0x24591298688>,\n",
       "  <matplotlib.lines.Line2D at 0x245912bad88>],\n",
       " 'caps': [<matplotlib.lines.Line2D at 0x24591956508>,\n",
       "  <matplotlib.lines.Line2D at 0x24591956948>],\n",
       " 'boxes': [<matplotlib.lines.Line2D at 0x245912ba708>],\n",
       " 'medians': [<matplotlib.lines.Line2D at 0x24591956dc8>],\n",
       " 'fliers': [<matplotlib.lines.Line2D at 0x24591956e08>],\n",
       " 'means': []}"
      ]
     },
     "execution_count": 181,
     "metadata": {},
     "output_type": "execute_result"
    },
    {
     "data": {
      "image/png": "[encoded data removed]",
      "text/plain": [
       "<Figure size 432x288 with 1 Axes>"
      ]
     },
     "metadata": {
      "needs_background": "light"
     },
     "output_type": "display_data"
    }
   ],
   "source": [
    "plt.boxplot( df_slr[df_slr.slr_cur == 'rur'].slr_from.drop(df_slr[df_slr.slr_cur == 'rur'].slr_from.idxmax()).dropna() )"
   ]
  },
  {
   "cell_type": "code",
   "execution_count": 182,
   "metadata": {},
   "outputs": [
    {
     "data": {
      "text/plain": [
       "{'whiskers': [<matplotlib.lines.Line2D at 0x24591a14448>,\n",
       "  <matplotlib.lines.Line2D at 0x24591a31e88>],\n",
       " 'caps': [<matplotlib.lines.Line2D at 0x24591a31e08>,\n",
       "  <matplotlib.lines.Line2D at 0x24591a387c8>],\n",
       " 'boxes': [<matplotlib.lines.Line2D at 0x24591a31548>],\n",
       " 'medians': [<matplotlib.lines.Line2D at 0x24591a38c88>],\n",
       " 'fliers': [<matplotlib.lines.Line2D at 0x24591a38c48>],\n",
       " 'means': []}"
      ]
     },
     "execution_count": 182,
     "metadata": {},
     "output_type": "execute_result"
    },
    {
     "data": {
      "image/png": "[encoded data removed]",
      "text/plain": [
       "<Figure size 432x288 with 1 Axes>"
      ]
     },
     "metadata": {
      "needs_background": "light"
     },
     "output_type": "display_data"
    }
   ],
   "source": [
    "#plt.boxplot( df_slr[df_slr.slr_cur == 'rur'].slr_to.dropna() )\n",
    "plt.boxplot( df_slr[df_slr.slr_cur == 'rur'].slr_to.drop(df_slr[df_slr.slr_cur == 'rur'].slr_to.idxmax()).dropna() )"
   ]
  },
  {
   "cell_type": "markdown",
   "metadata": {},
   "source": [
    "если предположить, что все вакансии в рублях"
   ]
  },
  {
   "cell_type": "code",
   "execution_count": null,
   "metadata": {},
   "outputs": [],
   "source": [
    "plt.boxplot( df_slr.slr_from.drop(df_slr.slr_from.idxmax()).dropna() )"
   ]
  },
  {
   "cell_type": "code",
   "execution_count": null,
   "metadata": {},
   "outputs": [],
   "source": []
  },
  {
   "cell_type": "code",
   "execution_count": null,
   "metadata": {},
   "outputs": [],
   "source": []
  },
  {
   "cell_type": "code",
   "execution_count": null,
   "metadata": {},
   "outputs": [],
   "source": []
  },
  {
   "cell_type": "code",
   "execution_count": null,
   "metadata": {},
   "outputs": [],
   "source": []
  },
  {
   "cell_type": "code",
   "execution_count": null,
   "metadata": {},
   "outputs": [],
   "source": []
  },
  {
   "cell_type": "markdown",
   "metadata": {},
   "source": [
    "#### test"
   ]
  },
  {
   "cell_type": "code",
   "execution_count": 6,
   "metadata": {},
   "outputs": [],
   "source": [
    "answ = requests.get(addr, params = {'text':'ML'}, headers = head)\n",
    "print(len(answ.json(), answ.status_code)"
   ]
  },
  {
   "cell_type": "code",
   "execution_count": 8,
   "metadata": {},
   "outputs": [
    {
     "data": {
      "text/plain": [
       "200"
      ]
     },
     "execution_count": 8,
     "metadata": {},
     "output_type": "execute_result"
    }
   ],
   "source": [
    "answ.status_code"
   ]
  },
  {
   "cell_type": "code",
   "execution_count": 9,
   "metadata": {},
   "outputs": [
    {
     "name": "stdout",
     "output_type": "stream",
     "text": [
      "571\n",
      "29\n",
      "20\n",
      "36292283\n"
     ]
    }
   ],
   "source": [
    "info = answ.json()\n",
    "print( info['found'] )\n",
    "print( info['pages'] )\n",
    "print( len(info['items']) )\n",
    "\n",
    "print( info['items'][0]['id'] )"
   ]
  },
  {
   "cell_type": "code",
   "execution_count": null,
   "metadata": {},
   "outputs": [],
   "source": []
  },
  {
   "cell_type": "code",
   "execution_count": 15,
   "metadata": {},
   "outputs": [],
   "source": [
    "answ = requests.get(addr + '/' + str(35218725), headers = head)\n",
    "vac = answ.json()\n",
    "#vac"
   ]
  },
  {
   "cell_type": "code",
   "execution_count": 25,
   "metadata": {
    "collapsed": true,
    "jupyter": {
     "outputs_hidden": true
    }
   },
   "outputs": [
    {
     "data": {
      "text/plain": [
       "{'id': '35218725',\n",
       " 'premium': False,\n",
       " 'billing_type': {'id': 'standard_plus', 'name': 'Стандарт плюс'},\n",
       " 'relations': [],\n",
       " 'name': 'Junior Data scientist',\n",
       " 'insider_interview': None,\n",
       " 'response_letter_required': False,\n",
       " 'area': {'id': '1', 'name': 'Москва', 'url': 'https://api.hh.ru/areas/1'},\n",
       " 'salary': None,\n",
       " 'type': {'id': 'open', 'name': 'Открытая'},\n",
       " 'address': {'city': 'Москва',\n",
       "  'street': 'улица 8 Марта',\n",
       "  'building': '1с12',\n",
       "  'description': None,\n",
       "  'lat': 55.800726,\n",
       "  'lng': 37.554933,\n",
       "  'raw': 'Москва, улица 8 Марта, 1с12',\n",
       "  'metro': {'station_name': 'Динамо',\n",
       "   'line_name': 'Замоскворецкая',\n",
       "   'station_id': '2.34',\n",
       "   'line_id': '2',\n",
       "   'lat': 55.789704,\n",
       "   'lng': 37.558212},\n",
       "  'metro_stations': [{'station_name': 'Динамо',\n",
       "    'line_name': 'Замоскворецкая',\n",
       "    'station_id': '2.34',\n",
       "    'line_id': '2',\n",
       "    'lat': 55.789704,\n",
       "    'lng': 37.558212},\n",
       "   {'station_name': 'Петровский парк',\n",
       "    'line_name': 'Солнцевская',\n",
       "    'station_id': '133.594',\n",
       "    'line_id': '133',\n",
       "    'lat': 55.79233,\n",
       "    'lng': 37.55952}]},\n",
       " 'allow_messages': True,\n",
       " 'site': {'id': 'hh', 'name': 'hh.ru'},\n",
       " 'experience': {'id': 'noExperience', 'name': 'Нет опыта'},\n",
       " 'schedule': {'id': 'fullDay', 'name': 'Полный день'},\n",
       " 'employment': {'id': 'full', 'name': 'Полная занятость'},\n",
       " 'department': None,\n",
       " 'contacts': {'name': 'Богачева Виктория',\n",
       "  'email': 'v.bogacheva@payps.ru',\n",
       "  'phones': []},\n",
       " 'description': '<p><strong><em>Pay P.S. - финтех компания, на рынке с 2012 года. Мы делаем финансовые услуги доступными. В данный момент наша платформа и сервисы вокруг нее позволяют получать денежные средства на покупку товаров и услуг за 5 минут.</em></strong></p> <p><strong><em>Что у нас есть:</em></strong></p> <ol> <li>Несколько сайтов с посещаемостью около 1 млн. посещений в месяц;</li> <li>Большое количество партнеров (телеком операторы, банки, интернет-магазины, онлайн кассы, собственный тревел проект);</li> <li>Молодая и динамичная команда выпускников НИУ ВШЭ, МГУ (мехмат/ВМК), МГТУ им. Баумана;</li> <li>Свой штат программистов;</li> <li>Наша цель - сделать финансовые услуги доступными любому человеку за 1 клик.</li> </ol> <p><em><strong>Какие задачи предстоит решать Вам:</strong></em></p> <ol> <li>Создавать и поддерживать отчеты в актуальном состоянии.</li> <li>Строить, поддерживать в актуальном состоянии и анализировать качество скоринговых моделей.</li> <li>Анализировать отклонения от плановых показателей, искать причин таких отклонений.</li> <li>Разрабатывать рекомендаций для принятия решений.</li> <li>Анализировать влияние дополнительных источников на предсказательную способность скоринговых моделей.</li> </ol> <p><em><strong>Что Вы получаете:</strong></em></p> <ol> <li>Интересные задачи и проекты с 1 дня работы;</li> <li>Реальный практический опыт в анализе данных;</li> <li>Возможность быстро реализовать любую толковую идею;</li> <li>Опытного наставника;</li> <li>Свободу от бюрократии и дресс-кода;</li> <li>Приятный, современный офис (15 минут от м. Динамо по красивейшему Петровскому парку);</li> <li>Полное соблюдение ТК РФ (&quot;белая&quot; заработная плата, социальные льготы и гарантии).</li> </ol> <p><em><strong>Что нам нужно от Вас:</strong></em></p> <ol> <li>Уверенный пользователь Excel, SQL.</li> <li>Владением одним или несколькими программами (R, Knime, Python).</li> <li>Знание основ теории вероятности, математической статистики, методов анализа данных и машинного обучения.</li> <li>Высшее образование - математический анализ/ статистика/ теория вероятности и т.п.</li> <li>Высокий уровень аналитических способностей.</li> <li>Английский язык на уровне чтения профессиональной литературы.</li> <li>Желание развиваться в Data scienсe.</li> <li>Готовность первым этапом пройти тестовое задание!</li> </ol>',\n",
       " 'branded_description': None,\n",
       " 'vacancy_constructor_template': None,\n",
       " 'key_skills': [{'name': 'Python'},\n",
       "  {'name': 'Математический анализ'},\n",
       "  {'name': 'Базы данных'},\n",
       "  {'name': 'Статистика'},\n",
       "  {'name': 'Аналитические исследования'},\n",
       "  {'name': 'SQL'},\n",
       "  {'name': 'Математическое моделирование'},\n",
       "  {'name': 'Математическая статистика'},\n",
       "  {'name': 'Анализ данных'},\n",
       "  {'name': 'Машинное обучение'}],\n",
       " 'accept_handicapped': True,\n",
       " 'accept_kids': False,\n",
       " 'archived': False,\n",
       " 'response_url': None,\n",
       " 'specializations': [{'id': '5.124',\n",
       "   'name': 'Риски: кредитные',\n",
       "   'profarea_id': '5',\n",
       "   'profarea_name': 'Банки, инвестиции, лизинг'},\n",
       "  {'id': '1.25',\n",
       "   'name': 'Аналитик',\n",
       "   'profarea_id': '1',\n",
       "   'profarea_name': 'Информационные технологии, интернет, телеком'}],\n",
       " 'code': None,\n",
       " 'hidden': False,\n",
       " 'quick_responses_allowed': False,\n",
       " 'driver_license_types': [],\n",
       " 'accept_incomplete_resumes': True,\n",
       " 'employer': {'id': '1039977',\n",
       "  'name': 'МФК Займ Онлайн',\n",
       "  'url': 'https://api.hh.ru/employers/1039977',\n",
       "  'alternate_url': 'https://hh.ru/employer/1039977',\n",
       "  'logo_urls': {'240': 'https://hhcdn.ru/employer-logo/1071075.png',\n",
       "   'original': 'https://hhcdn.ru/employer-logo-original/89627.png',\n",
       "   '90': 'https://hhcdn.ru/employer-logo/1071074.png'},\n",
       "  'vacancies_url': 'https://api.hh.ru/vacancies?employer_id=1039977',\n",
       "  'trusted': True},\n",
       " 'published_at': '2020-03-27T18:03:53+0300',\n",
       " 'created_at': '2020-03-27T18:03:53+0300',\n",
       " 'negotiations_url': None,\n",
       " 'suitable_resumes_url': None,\n",
       " 'apply_alternate_url': 'https://hh.ru/applicant/vacancy_response?vacancyId=35218725',\n",
       " 'has_test': False,\n",
       " 'test': None,\n",
       " 'alternate_url': 'https://hh.ru/vacancy/35218725'}"
      ]
     },
     "execution_count": 25,
     "metadata": {},
     "output_type": "execute_result"
    }
   ],
   "source": [
    "vac"
   ]
  },
  {
   "cell_type": "code",
   "execution_count": 8,
   "metadata": {},
   "outputs": [
    {
     "name": "stdout",
     "output_type": "stream",
     "text": [
      "1228\n",
      "['36359628', '35546587', '35218725', '36271196', '36476804']\n",
      "['москва', 'москва', 'москва', 'москва', 'москва']\n",
      "[300000, 130000, None, 100000, 150000]\n",
      "[None, 500000, None, 250000, 250000]\n",
      "['rur', 'rur', None, 'rur', 'rur']\n",
      "['математическая статистика', 'математический анализ', 'python', 'git', 'python']\n",
      "[datetime.datetime(2020, 3, 27, 19, 25, 48), datetime.datetime(2020, 3, 27, 18, 10, 59), datetime.datetime(2020, 3, 27, 18, 3, 53), datetime.datetime(2020, 3, 27, 18, 25, 39), datetime.datetime(2020, 3, 27, 13, 27, 50)]\n"
     ]
    }
   ],
   "source": [
    "print(len(id_list))\n",
    "print(id_list[:5])\n",
    "print(area_list[:5])\n",
    "#print(descr_list[:5])\n",
    "print(salary_from_list[:5])\n",
    "print(salary_to_list[:5])\n",
    "print(salary_cur_list[:5])\n",
    "print(key_skills_list[:5])\n",
    "print(date_list[:5])"
   ]
  },
  {
   "cell_type": "code",
   "execution_count": null,
   "metadata": {},
   "outputs": [],
   "source": [
    "vacancy"
   ]
  },
  {
   "cell_type": "code",
   "execution_count": null,
   "metadata": {},
   "outputs": [],
   "source": []
  },
  {
   "cell_type": "code",
   "execution_count": null,
   "metadata": {},
   "outputs": [],
   "source": [
    "#data_ks[0].value_counts()[60:120]"
   ]
  },
  {
   "cell_type": "code",
   "execution_count": null,
   "metadata": {},
   "outputs": [],
   "source": []
  },
  {
   "cell_type": "code",
   "execution_count": null,
   "metadata": {},
   "outputs": [],
   "source": []
  }
 ],
 "metadata": {
  "kernelspec": {
   "display_name": "Python 3",
   "language": "python",
   "name": "python3"
  },
  "language_info": {
   "codemirror_mode": {
    "name": "ipython",
    "version": 3
   },
   "file_extension": ".py",
   "mimetype": "text/x-python",
   "name": "python",
   "nbconvert_exporter": "python",
   "pygments_lexer": "ipython3",
   "version": "3.7.9"
  }
 },
 "nbformat": 4,
 "nbformat_minor": 4
}
