{
 "cells": [
  {
   "cell_type": "code",
   "execution_count": null,
   "metadata": {},
   "outputs": [],
   "source": []
  },
  {
   "cell_type": "code",
   "execution_count": 1,
   "metadata": {},
   "outputs": [],
   "source": [
    "import requests\n",
    "from tqdm import tqdm\n",
    "from datetime import datetime\n",
    "from dateutil.parser import parse"
   ]
  },
  {
   "cell_type": "code",
   "execution_count": 2,
   "metadata": {},
   "outputs": [],
   "source": [
    "#dir(requests)"
   ]
  },
  {
   "cell_type": "code",
   "execution_count": 9,
   "metadata": {},
   "outputs": [
    {
     "name": "stdout",
     "output_type": "stream",
     "text": [
      "Populating the interactive namespace from numpy and matplotlib\n"
     ]
    },
    {
     "name": "stderr",
     "output_type": "stream",
     "text": [
      "C:\\Users\\_v010ch_\\Anaconda3\\lib\\site-packages\\IPython\\core\\magics\\pylab.py:160: UserWarning: pylab import has clobbered these variables: ['datetime']\n",
      "`%matplotlib` prevents importing * from pylab and numpy\n",
      "  \"\\n`%matplotlib` prevents importing * from pylab and numpy\"\n"
     ]
    }
   ],
   "source": [
    "%pylab inline"
   ]
  },
  {
   "cell_type": "code",
   "execution_count": null,
   "metadata": {},
   "outputs": [],
   "source": []
  },
  {
   "cell_type": "code",
   "execution_count": 3,
   "metadata": {},
   "outputs": [],
   "source": [
    "addr = 'https://api.hh.ru/vacancies'\n",
    "head = {'User-Agent': 'NoApp'}"
   ]
  },
  {
   "cell_type": "code",
   "execution_count": 4,
   "metadata": {},
   "outputs": [],
   "source": [
    "vacancies_list = [ 'Data scientist',\n",
    "'Data science', \n",
    "'Ml specialist', \n",
    "'Machine learning', \n",
    "'Data Analyst',\n",
    "'ML']\n"
   ]
  },
  {
   "cell_type": "code",
   "execution_count": null,
   "metadata": {},
   "outputs": [],
   "source": []
  },
  {
   "cell_type": "markdown",
   "metadata": {},
   "source": [
    "'area': {'id': '1', 'name': 'Москва'...}    \n",
    "'salary': {'from': 300000, 'to': None, 'currency': 'RUR', 'gross': False}    \n",
    "'description': {'......'}    \n",
    "'key_skills': [{'name': 'Мат стат'}, {'name': 'Мат анализ'}, {'name': 'Python'}, {'name': 'Git'}]     "
   ]
  },
  {
   "cell_type": "markdown",
   "metadata": {},
   "source": []
  },
  {
   "cell_type": "code",
   "execution_count": 7,
   "metadata": {},
   "outputs": [
    {
     "name": "stdout",
     "output_type": "stream",
     "text": [
      "https://api.hh.ru/vacancies?text=Data+scientist\n"
     ]
    },
    {
     "name": "stderr",
     "output_type": "stream",
     "text": [
      "100%|██████████████████████████████████████████████████████████████████████████████████| 20/20 [00:27<00:00,  1.39s/it]\n"
     ]
    },
    {
     "name": "stdout",
     "output_type": "stream",
     "text": [
      "Found 383 vacancies with key words \"Data scientist\" with 296 not in list\n",
      "https://api.hh.ru/vacancies?text=Data+science\n"
     ]
    },
    {
     "name": "stderr",
     "output_type": "stream",
     "text": [
      "100%|██████████████████████████████████████████████████████████████████████████████████| 41/41 [00:34<00:00,  1.17it/s]\n"
     ]
    },
    {
     "name": "stdout",
     "output_type": "stream",
     "text": [
      "Found 804 vacancies with key words \"Data science\" with 364 not in list\n",
      "https://api.hh.ru/vacancies?text=Ml+specialist\n"
     ]
    },
    {
     "name": "stderr",
     "output_type": "stream",
     "text": [
      "100%|████████████████████████████████████████████████████████████████████████████████████| 6/6 [00:01<00:00,  4.00it/s]\n"
     ]
    },
    {
     "name": "stdout",
     "output_type": "stream",
     "text": [
      "Found 110 vacancies with key words \"Ml specialist\" with 8 not in list\n",
      "https://api.hh.ru/vacancies?text=Machine+learning\n"
     ]
    },
    {
     "name": "stderr",
     "output_type": "stream",
     "text": [
      "100%|██████████████████████████████████████████████████████████████████████████████████| 37/37 [00:20<00:00,  1.77it/s]\n"
     ]
    },
    {
     "name": "stdout",
     "output_type": "stream",
     "text": [
      "Found 736 vacancies with key words \"Machine learning\" with 188 not in list\n",
      "https://api.hh.ru/vacancies?text=Data+Analyst\n"
     ]
    },
    {
     "name": "stderr",
     "output_type": "stream",
     "text": [
      "100%|██████████████████████████████████████████████████████████████████████████████████| 72/72 [00:37<00:00,  1.90it/s]\n"
     ]
    },
    {
     "name": "stdout",
     "output_type": "stream",
     "text": [
      "Found 1431 vacancies with key words \"Data Analyst\" with 296 not in list\n",
      "https://api.hh.ru/vacancies?text=ML\n"
     ]
    },
    {
     "name": "stderr",
     "output_type": "stream",
     "text": [
      "100%|██████████████████████████████████████████████████████████████████████████████████| 29/29 [00:10<00:00,  2.73it/s]\n"
     ]
    },
    {
     "name": "stdout",
     "output_type": "stream",
     "text": [
      "Found 573 vacancies with key words \"ML\" with 76 not in list\n",
      "\n",
      "Done\n"
     ]
    }
   ],
   "source": [
    "id_list     = list()\n",
    "area_list   = list()\n",
    "descr_list  = list()\n",
    "salary_from_list = list()\n",
    "salary_to_list   = list()\n",
    "salary_cur_list  = list()\n",
    "key_skills_list  = list()\n",
    "\n",
    "date_list = list()\n",
    "\n",
    "for element in vacancies_list:\n",
    "    new_ones = 0\n",
    "    \n",
    "    #getting amount of all vacancies\n",
    "    answ = requests.get(addr, params={'text':element}, headers = head)\n",
    "    if answ.status_code != 200:\n",
    "        print('Error get info with ' + element + ' tag')\n",
    "        break\n",
    "        \n",
    "    print(answ.url)\n",
    "    info_tag = answ.json()\n",
    "    amnt_pages = info_tag['pages']\n",
    "    amnt_found = info_tag['found']\n",
    "    \n",
    "    # amnt_pages\n",
    "    for page in tqdm(range(amnt_pages)):\n",
    "        # going through all pages\n",
    "        answ = requests.get(addr, params={'text':element, 'page':page}, headers = head)\n",
    "        if answ.status_code != 200:\n",
    "            print('Error get info with ' + element + ' tag on page ' + str(page))\n",
    "            break\n",
    "        info_tag_page = answ.json()\n",
    "        info_tag_page = info_tag_page['items']\n",
    "        if len(info_tag_page) == 0:\n",
    "            break\n",
    "        \n",
    "        #len(info_tag_page)\n",
    "        for vac in range( len(info_tag_page) ):\n",
    "            #going through all vacancies on pages \n",
    "            if info_tag_page[vac]['id'] in id_list:\n",
    "                break\n",
    "            \n",
    "            #print(info_tag_page[vac]['id'])\n",
    "            answ = requests.get(addr + '/' + info_tag_page[vac]['id'], headers = head)\n",
    "            if answ.status_code != 200:\n",
    "                print('Error get info about vacancia ' + info_tag_page[vac]['id'])\n",
    "                break  \n",
    "            \n",
    "            vacancy = answ.json()\n",
    "            \n",
    "            id_list.append(    vacancy['id'])\n",
    "            \n",
    "            if isinstance(vacancy['area'], type(None)):\n",
    "                area_list.append('')\n",
    "            else:\n",
    "                area_list.append(  vacancy['area']['name'].lower())  # id name\n",
    "            \n",
    "            if isinstance(vacancy['description'], type(None)):\n",
    "                descr_list.append('')\n",
    "            else:\n",
    "                descr_list.append(  vacancy['description'].lower())  # id name\n",
    "            \n",
    "            \n",
    "            if isinstance(vacancy['salary'], type(None)):\n",
    "                salary_from_list.append( None )   # from to\n",
    "                salary_to_list.append(   None )   # from to\n",
    "                salary_cur_list.append(  None )\n",
    "            else:\n",
    "                salary_from_list.append( vacancy['salary']['from']) # from to\n",
    "                salary_to_list.append(   vacancy['salary']['to'])   # from to\n",
    "                salary_cur_list.append(  vacancy['salary']['currency'].lower())\n",
    "            \n",
    "                        \n",
    "            if len(vacancy['key_skills']) > 0:\n",
    "                for skill in range( len(vacancy['key_skills']) ):   # name name name name.....\n",
    "                    key_skills_list.append(  vacancy['key_skills'][skill]['name'].lower())   \n",
    "            \n",
    "            date_list.append( parse(vacancy['published_at'], ignoretz = True) )\n",
    "            new_ones += 1\n",
    "                   \n",
    "    print('Found ' + str(amnt_found) + ' vacancies with key words \"' + element + '\" with ' + str(new_ones) + ' not in list')\n",
    "    \n",
    "    \n",
    "print('\\nDone')"
   ]
  },
  {
   "cell_type": "code",
   "execution_count": null,
   "metadata": {},
   "outputs": [],
   "source": []
  },
  {
   "cell_type": "code",
   "execution_count": null,
   "metadata": {},
   "outputs": [],
   "source": [
    "answ = requests.get(addr, params = {'text':'ML'}, headers = head)"
   ]
  },
  {
   "cell_type": "code",
   "execution_count": null,
   "metadata": {},
   "outputs": [],
   "source": [
    "len(answ.json())"
   ]
  },
  {
   "cell_type": "code",
   "execution_count": null,
   "metadata": {},
   "outputs": [],
   "source": [
    "answ.status_code"
   ]
  },
  {
   "cell_type": "code",
   "execution_count": null,
   "metadata": {},
   "outputs": [],
   "source": [
    "info = answ.json()\n",
    "print( info['found'] )\n",
    "print( info['pages'] )\n",
    "print( len(info['items']) )\n",
    "\n",
    "print( info['items'][0]['id'] )"
   ]
  },
  {
   "cell_type": "code",
   "execution_count": null,
   "metadata": {},
   "outputs": [],
   "source": []
  },
  {
   "cell_type": "code",
   "execution_count": null,
   "metadata": {},
   "outputs": [],
   "source": [
    "#answ = requests.get(addr + '/' + info['items'][0]['id'], headers = head)\n",
    "answ = requests.get(addr + '/' + str(35218725), headers = head)"
   ]
  },
  {
   "cell_type": "code",
   "execution_count": null,
   "metadata": {},
   "outputs": [],
   "source": [
    "vac = answ.json()"
   ]
  },
  {
   "cell_type": "code",
   "execution_count": null,
   "metadata": {},
   "outputs": [],
   "source": [
    "vac"
   ]
  },
  {
   "cell_type": "code",
   "execution_count": null,
   "metadata": {},
   "outputs": [],
   "source": []
  },
  {
   "cell_type": "code",
   "execution_count": null,
   "metadata": {},
   "outputs": [],
   "source": []
  },
  {
   "cell_type": "code",
   "execution_count": 8,
   "metadata": {},
   "outputs": [
    {
     "name": "stdout",
     "output_type": "stream",
     "text": [
      "1228\n",
      "['36359628', '35546587', '35218725', '36271196', '36476804']\n",
      "['москва', 'москва', 'москва', 'москва', 'москва']\n",
      "[300000, 130000, None, 100000, 150000]\n",
      "[None, 500000, None, 250000, 250000]\n",
      "['rur', 'rur', None, 'rur', 'rur']\n",
      "['математическая статистика', 'математический анализ', 'python', 'git', 'python']\n",
      "[datetime.datetime(2020, 3, 27, 19, 25, 48), datetime.datetime(2020, 3, 27, 18, 10, 59), datetime.datetime(2020, 3, 27, 18, 3, 53), datetime.datetime(2020, 3, 27, 18, 25, 39), datetime.datetime(2020, 3, 27, 13, 27, 50)]\n"
     ]
    }
   ],
   "source": [
    "print(len(id_list))\n",
    "print(id_list[:5])\n",
    "print(area_list[:5])\n",
    "#print(descr_list[:5])\n",
    "print(salary_from_list[:5])\n",
    "print(salary_to_list[:5])\n",
    "print(salary_cur_list[:5])\n",
    "print(key_skills_list[:5])\n",
    "print(date_list[:5])"
   ]
  },
  {
   "cell_type": "code",
   "execution_count": null,
   "metadata": {},
   "outputs": [],
   "source": [
    "vacancy"
   ]
  },
  {
   "cell_type": "code",
   "execution_count": null,
   "metadata": {},
   "outputs": [],
   "source": []
  },
  {
   "cell_type": "code",
   "execution_count": null,
   "metadata": {},
   "outputs": [],
   "source": []
  },
  {
   "cell_type": "code",
   "execution_count": null,
   "metadata": {},
   "outputs": [],
   "source": []
  }
 ],
 "metadata": {
  "kernelspec": {
   "display_name": "Python 3",
   "language": "python",
   "name": "python3"
  },
  "language_info": {
   "codemirror_mode": {
    "name": "ipython",
    "version": 3
   },
   "file_extension": ".py",
   "mimetype": "text/x-python",
   "name": "python",
   "nbconvert_exporter": "python",
   "pygments_lexer": "ipython3",
   "version": "3.7.4"
  }
 },
 "nbformat": 4,
 "nbformat_minor": 2
}
